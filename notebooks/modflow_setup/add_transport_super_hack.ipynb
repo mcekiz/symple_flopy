{
 "cells": [
  {
   "cell_type": "markdown",
   "id": "87983563",
   "metadata": {},
   "source": [
    "# Add transport to the MF6 flow model"
   ]
  },
  {
   "cell_type": "code",
   "execution_count": null,
   "id": "061d09d6",
   "metadata": {},
   "outputs": [],
   "source": [
    "import sys, os\n",
    "sys.path.append('../../dependencies/')\n",
    "import shutil\n",
    "import flopy\n",
    "import pyemu\n",
    "# import specific FloPy modules\n",
    "from flopy.utils.gridgen import Gridgen \n",
    "from flopy.utils.gridintersect import GridIntersect\n",
    "\n",
    "import pandas as pd \n",
    "import numpy as np\n",
    "import matplotlib.pyplot as plt\n",
    "\n",
    "# for working with shapefiles\n",
    "import shapefile as sf\n",
    "from shapely.geometry import Polygon, LineString, MultiLineString, Point"
   ]
  },
  {
   "cell_type": "code",
   "execution_count": null,
   "id": "3f3a313b",
   "metadata": {},
   "outputs": [],
   "source": [
    "org_model_ws = os.path.join(\"..\",\"..\",\"models\",\"sgn_mfsetup\")\n",
    "model_ws = org_model_ws + \"_transport\"\n",
    "if os.path.exists(model_ws):\n",
    "    shutil.rmtree(model_ws)\n",
    "shutil.copytree(org_model_ws,model_ws)\n",
    "sim = flopy.mf6.MFSimulation.load(sim_ws=model_ws)"
   ]
  },
  {
   "cell_type": "code",
   "execution_count": null,
   "id": "2247fbcf",
   "metadata": {},
   "outputs": [],
   "source": [
    "model_name = \"sgn_50\"\n",
    "m = sim.get_model(model_name)"
   ]
  },
  {
   "cell_type": "markdown",
   "id": "4d7b10a3",
   "metadata": {},
   "source": [
    "### some trickery\n",
    "\n",
    "Just copy the gwt model from the flopy lesson"
   ]
  },
  {
   "cell_type": "code",
   "execution_count": null,
   "id": "107129bd",
   "metadata": {},
   "outputs": [],
   "source": [
    "gwt_name = \"gwt-sgn\"\n",
    "gwf_name = \"sgn_50\""
   ]
  },
  {
   "cell_type": "code",
   "execution_count": null,
   "id": "27adf718",
   "metadata": {},
   "outputs": [],
   "source": [
    "gwt_org_d = os.path.join(\"..\",\"..\",\"models\",\"sgn_model_3layer\")\n",
    "gwt_files = [f for f in os.listdir(gwt_org_d) if \"gwt\" in f.lower()]\n",
    "for f in gwt_files:\n",
    "    shutil.copy2(os.path.join(gwt_org_d,f),os.path.join(model_ws,f))\n",
    "#shutil.copy2(os.path.join(gwt_org_d,\"sim.tdis\"),os.path.join(model_ws,gwf_name+\"_sim.tdis\"))\n",
    "    \n",
    "# fix tdis\n",
    "lines = open(os.path.join(model_ws,gwf_name+\"_sim.tdis\"),'r').readlines()\n",
    "with open(os.path.join(model_ws,gwf_name+\"_sim.tdis\"),'w') as f:\n",
    "    for line in lines:\n",
    "        f.write(line)\n",
    "        if \"begin perioddata\" in line.lower():\n",
    "            f.write(\" 1.57680000E+09  2       1.10000000\\n\")\n",
    "            f.write(\" 1.57680000E+09  2       1.10000000\\n\")\n",
    "            f.write(\"END perioddata\\n\")\n",
    "    \n",
    "# fix the dis\n",
    "shutil.copy2(os.path.join(model_ws,model_name+\".dis\"),os.path.join(model_ws,gwt_name+\".dis\"))\n",
    "# fix the nam file\n",
    "lines = open(os.path.join(model_ws,gwt_name+\".nam\"),'r').readlines()\n",
    "with open(os.path.join(model_ws,gwt_name+\".nam\"),'w') as f:\n",
    "    for line in lines:\n",
    "        #if \"ssm\" in line.lower():\n",
    "        #    continue\n",
    "        #if \"obs\" in line.lower():\n",
    "        #    continue\n",
    "        line = line.replace(\"disv\",\"dis\")\n",
    "        f.write(line)\n",
    "# fix the mfsim nam file\n",
    "lines = open(os.path.join(model_ws,\"mfsim.nam\"),'r').readlines()\n",
    "\n",
    "with open(os.path.join(model_ws,\"mfsim.nam\"),'w') as f:\n",
    "    for line in lines:\n",
    "        f.write(line)\n",
    "        if \"begin models\" in line.lower():\n",
    "            f.write(\" gwt6 {0}.nam {0}\\n\".format(gwt_name))\n",
    "        if \"begin solutiongroup\" in line.lower():\n",
    "            f.write(\" ims6 {0}.ims {0}\\n\".format(gwt_name))\n",
    "        if \"begin exchanges\" in line.lower():\n",
    "            f.write(\"GWF6-GWT6  sgn.gwfgwt  {0}  {1}\\n\".format(gwf_name,gwt_name))\n",
    "# fix for mst so porosity is layered\n",
    "lines = open(os.path.join(model_ws,gwt_name+\".mst\"),'r').readlines()\n",
    "with open(os.path.join(model_ws,gwt_name+\".mst\"),'w') as f:\n",
    "    for line in lines:\n",
    "        if \"porosity\" in line:\n",
    "            f.write(\"  porosity layered\\n    CONSTANT  0.2\\n    CONSTANT  0.2\\n    CONSTANT 0.2\\n\")\n",
    "            f.write(\"END griddata\\n\")\n",
    "            break\n",
    "        f.write(line)"
   ]
  },
  {
   "cell_type": "code",
   "execution_count": null,
   "id": "3f9942f7",
   "metadata": {},
   "outputs": [],
   "source": [
    "ix = GridIntersect(m.modelgrid)"
   ]
  },
  {
   "cell_type": "code",
   "execution_count": null,
   "id": "2c856d2f",
   "metadata": {},
   "outputs": [],
   "source": [
    "source_shp = os.path.join(\"..\",\"..\",\"data\",\"sgn\",\"shp\",\"real_unknown_sources.shp\")\n",
    "shp = sf.Reader(source_shp)\n",
    "print(shp.fields)"
   ]
  },
  {
   "cell_type": "code",
   "execution_count": null,
   "id": "7925ede5",
   "metadata": {},
   "outputs": [],
   "source": [
    "src_ij_conc = []\n",
    "for s,r in zip(shp.shapes(),shp.records()):\n",
    "    #print(s.points[0])\n",
    "    pt = Point(*s.points[0])\n",
    "    src_cell = ix.intersect(pt)\n",
    "    ij_conc = list(src_cell[0][0])\n",
    "    ij_conc.append(r[-2])\n",
    "    if ij_conc not in src_ij_conc:\n",
    "        src_ij_conc.append(ij_conc)\n",
    "    #print(src_cell[0][0])"
   ]
  },
  {
   "cell_type": "code",
   "execution_count": null,
   "id": "cbdca386",
   "metadata": {},
   "outputs": [],
   "source": [
    "src_ij_conc"
   ]
  },
  {
   "cell_type": "code",
   "execution_count": null,
   "id": "0f189589",
   "metadata": {},
   "outputs": [],
   "source": [
    "#rewrite the cnc file\n",
    "cnc_file = os.path.join(model_ws,gwt_name+\".cnc\")\n",
    "with open(cnc_file,'w') as f:\n",
    "    f.write(\"BEGIN options\\n  BOUNDNAMES\\nEND options\\n\\n\")\n",
    "    f.write(\"BEGIN dimensions\\nMAXBOUND {0}\\nEND dimensions\\n\\n\".format(len(src_ij_conc)))\n",
    "    f.write(\"BEGIN period 1\\n\")\n",
    "    for src_rec in src_ij_conc:\n",
    "        line = \"1 {0} {1} {2}\".format(src_rec[0]+1,src_rec[1]+1,src_rec[2])\n",
    "        if src_rec[2] == 200:\n",
    "            line += \" conc-1\\n\"\n",
    "        else:\n",
    "            line += \" conc-2\\n\"\n",
    "        f.write(line)\n",
    "    f.write(\"END period 1\\n\")\n",
    "\n",
    "            \n",
    "    "
   ]
  },
  {
   "cell_type": "code",
   "execution_count": null,
   "id": "0be65b56",
   "metadata": {},
   "outputs": [],
   "source": [
    "obs_shp = os.path.join(\"..\",\"..\",\"data\",\"sgn\",\"shp\",\"Target_L1_sept2019_head_PCE.shp\")\n",
    "shp = sf.Reader(obs_shp)\n",
    "print(shp.fields)"
   ]
  },
  {
   "cell_type": "code",
   "execution_count": null,
   "id": "2106c6ba",
   "metadata": {
    "scrolled": false
   },
   "outputs": [],
   "source": [
    "cobs_ij = []\n",
    "for s,r in zip(shp.shapes(),shp.records()):\n",
    "    #print(s.points[0])\n",
    "    pt = Point(*s.points[0])\n",
    "    src_cell = ix.intersect(pt)\n",
    "    #print(len(src_cell))\n",
    "    if len(src_cell) == 0:\n",
    "        print(\"out of grid\",r[0])\n",
    "        continue\n",
    "    #print(src_cell)\n",
    "    ij = list(src_cell[0][0])\n",
    "    if ij not in cobs_ij:\n",
    "        ij.append(r[0].lower().replace(\"_\",\"\"))\n",
    "        ij.append(r[8])\n",
    "        cobs_ij.append(ij)\n",
    "    else:\n",
    "        print(\"same cell\",ij,r[0],[r for r in ij_conc if r == ij])"
   ]
  },
  {
   "cell_type": "code",
   "execution_count": null,
   "id": "018c73f2",
   "metadata": {},
   "outputs": [],
   "source": [
    "cobs_ij"
   ]
  },
  {
   "cell_type": "code",
   "execution_count": null,
   "id": "16d13da4",
   "metadata": {},
   "outputs": [],
   "source": [
    "with open(os.path.join(model_ws,gwt_name+\".obs\"),'w') as f:\n",
    "    f.write(\"BEGIN options\\n DIGITS 15\\n PRINT_INPUT\\nEND options\\n\\n\")\n",
    "    f.write(\"BEGIN continuous FILEOUT conc_obs.csv\\n\")\n",
    "    for rec in cobs_ij:\n",
    "        f.write(\"{0} CONCENTRATION 1 {1} {2}\\n\".format(rec[2],int(rec[0])+1,int(rec[1])+1))\n",
    "    f.write(\"END continuous FILEOUT conc_obs.csv\\n\\n\")"
   ]
  },
  {
   "cell_type": "code",
   "execution_count": null,
   "id": "809936e1",
   "metadata": {},
   "outputs": [],
   "source": [
    "pyemu.os_utils.run(\"mf6\",cwd=model_ws)"
   ]
  },
  {
   "cell_type": "code",
   "execution_count": null,
   "id": "2db2e7ce",
   "metadata": {},
   "outputs": [],
   "source": [
    "df = pd.DataFrame(cobs_ij,columns=[\"i\",\"j\",\"site\",\"pce\"])\n",
    "df.to_csv(os.path.join(model_ws,\"pce_obsval.csv\"),index=False)"
   ]
  },
  {
   "cell_type": "code",
   "execution_count": null,
   "id": "bf3183b9",
   "metadata": {
    "scrolled": false
   },
   "outputs": [],
   "source": [
    "ucn = flopy.utils.HeadFile(os.path.join(model_ws,gwt_name+\".ucn\"),precision=\"double\",text=\"concentration\")\n",
    "\n",
    "fig,axes = plt.subplots(1,2,figsize=(10,5))\n",
    "times = ucn.get_times()\n",
    "assert len(times) == 2\n",
    "mn = 1.0e+100\n",
    "mx = -1.0e+100\n",
    "for t in times:\n",
    "    d = ucn.get_data(totim=t)\n",
    "    mn = min(mn,d.min())\n",
    "    mx = max(mx,d.max())\n",
    "for ax,t in zip(axes,times):\n",
    "    d = ucn.get_data(totim=t)\n",
    "    cb = ax.imshow(d[0,:,:],vmin=mn,vmax=mx)\n",
    "    plt.colorbar(cb,ax=ax)\n"
   ]
  },
  {
   "cell_type": "code",
   "execution_count": null,
   "id": "2d5a5473",
   "metadata": {},
   "outputs": [],
   "source": []
  },
  {
   "cell_type": "code",
   "execution_count": null,
   "id": "61acfa11",
   "metadata": {},
   "outputs": [],
   "source": []
  }
 ],
 "metadata": {
  "kernelspec": {
   "display_name": "Python 3 (ipykernel)",
   "language": "python",
   "name": "python3"
  },
  "language_info": {
   "codemirror_mode": {
    "name": "ipython",
    "version": 3
   },
   "file_extension": ".py",
   "mimetype": "text/x-python",
   "name": "python",
   "nbconvert_exporter": "python",
   "pygments_lexer": "ipython3",
   "version": "3.9.7"
  }
 },
 "nbformat": 4,
 "nbformat_minor": 5
}
