{
 "cells": [
  {
   "cell_type": "markdown",
   "id": "3ce74a79",
   "metadata": {},
   "source": [
    "# Add transport to the MF6 flow model"
   ]
  },
  {
   "cell_type": "code",
   "execution_count": null,
   "id": "061d09d6",
   "metadata": {},
   "outputs": [],
   "source": [
    "import sys, os\n",
    "sys.path.append('../../dependencies/')\n",
    "import shutil\n",
    "import flopy\n",
    "# import specific FloPy modules\n",
    "from flopy.utils.gridgen import Gridgen \n",
    "from flopy.utils.gridintersect import GridIntersect\n",
    "\n",
    "import pandas as pd \n",
    "import numpy as np\n",
    "import matplotlib.pyplot as plt\n",
    "\n",
    "# for working with shapefiles\n",
    "import shapefile as sf\n",
    "from shapely.geometry import Polygon, LineString, MultiLineString, Point"
   ]
  },
  {
   "cell_type": "code",
   "execution_count": null,
   "id": "ae1f1216",
   "metadata": {},
   "outputs": [],
   "source": [
    "org_model_ws = os.path.join(\"..\",\"..\",\"models\",\"sgn_mfsetup\")\n",
    "model_ws = org_model_ws + \"_transport\"\n",
    "if os.path.exists(model_ws):\n",
    "    shutil.rmtree(model_ws)\n",
    "shutil.copytree(org_model_ws,model_ws)\n",
    "sim = flopy.mf6.MFSimulation.load(sim_ws=model_ws)"
   ]
  },
  {
   "cell_type": "code",
   "execution_count": null,
   "id": "0437a1b3",
   "metadata": {},
   "outputs": [],
   "source": [
    "model_name = \"sgn_50\"\n",
    "m = sim.get_model(model_name)"
   ]
  },
  {
   "cell_type": "markdown",
   "id": "a1c6e5e3",
   "metadata": {},
   "source": [
    "### some trickery\n",
    "\n",
    "Just copy the gwt model from the flopy lesson"
   ]
  },
  {
   "cell_type": "code",
   "execution_count": null,
   "id": "d1449f1f",
   "metadata": {},
   "outputs": [],
   "source": [
    "gwt_name = \"gwt-sgn\""
   ]
  },
  {
   "cell_type": "code",
   "execution_count": null,
   "id": "a52f257f",
   "metadata": {},
   "outputs": [],
   "source": [
    "gwt_org_d = os.path.join(\"..\",\"..\",\"models\",\"sgn_model_3layer\")\n",
    "gwt_files = [f for f in os.listdir(gwt_org_d) if gwt_name in f.lower()]\n",
    "for f in gwt_files:\n",
    "    shutil.copy2(os.path.join(gwt_org_d,f),os.path.join(model_ws,f))\n",
    "# fix the dis\n",
    "shutil.copy2(os.path.join(model_ws,model_name+\".dis\"),os.path.join(model_ws,gwt_name+\".dis\"))\n",
    "# fix the nam file\n",
    "lines = open(os.path.join(model_ws,gwt_name+\".nam\"),'r').readlines()\n",
    "with open(os.path.join(model_ws,gwt_name+\".nam\"),'w') as f:\n",
    "    for line in lines:\n",
    "        if \"ssm\" in line.lower():\n",
    "            continue\n",
    "        #if \"obs\" in line.lower():\n",
    "        #    continue\n",
    "        line = line.replace(\"disv\",\"dis\")\n",
    "        f.write(line)\n",
    "# fix the mfsim nam file\n",
    "lines = open(os.path.join(model_ws,\"mfsim.nam\"),'r').readlines()\n",
    "print(lines)\n",
    "with open(os.path.join(model_ws,\"mfsim.nam\"),'w') as f:\n",
    "    for line in lines:\n",
    "        f.write(line)\n",
    "        if \"begin models\" in line.lower():\n",
    "            f.write(\" gwt6 {0}.nam {0}\\n\".format(gwt_name))\n",
    "        if \"begin solutiongroup\" in line.lower():\n",
    "            f.write(\" ims6 {0}.ims {0}\\n\".format(gwt_name))"
   ]
  },
  {
   "cell_type": "code",
   "execution_count": null,
   "id": "24b53390",
   "metadata": {},
   "outputs": [],
   "source": [
    "ix = GridIntersect(m.modelgrid)"
   ]
  },
  {
   "cell_type": "code",
   "execution_count": null,
   "id": "ef2bd6a7",
   "metadata": {},
   "outputs": [],
   "source": [
    "source_shp = os.path.join(\"..\",\"..\",\"data\",\"sgn\",\"shp\",\"real_unknown_sources.shp\")\n",
    "shp = sf.Reader(source_shp)\n",
    "print(shp.fields)"
   ]
  },
  {
   "cell_type": "code",
   "execution_count": null,
   "id": "32254f88",
   "metadata": {},
   "outputs": [],
   "source": [
    "src_ij_conc = []\n",
    "for s,r in zip(shp.shapes(),shp.records()):\n",
    "    #print(s.points[0])\n",
    "    pt = Point(*s.points[0])\n",
    "    src_cell = ix.intersect(pt)\n",
    "    ij_conc = list(src_cell[0][0])\n",
    "    ij_conc.append(r[-2])\n",
    "    if ij_conc not in src_ij_conc:\n",
    "        src_ij_conc.append(ij_conc)\n",
    "    #print(src_cell[0][0])"
   ]
  },
  {
   "cell_type": "code",
   "execution_count": null,
   "id": "dd407bc8",
   "metadata": {},
   "outputs": [],
   "source": [
    "src_ij_conc"
   ]
  },
  {
   "cell_type": "code",
   "execution_count": null,
   "id": "ed6f099a",
   "metadata": {},
   "outputs": [],
   "source": [
    "#rewrite the cnc file\n",
    "cnc_file = os.path.join(model_ws,gwt_name+\".cnc\")\n",
    "with open(cnc_file,'w') as f:\n",
    "    f.write(\"BEGIN options\\n  BOUNDNAMES\\nEND options\\n\\n\")\n",
    "    f.write(\"BEGIN dimensions\\nMAXBOUND {0}\\nEND dimensions\\n\\n\".format(len(src_ij_conc)))\n",
    "    f.write(\"BEGIN period 1\\n\")\n",
    "    for src_rec in src_ij_conc:\n",
    "        line = \"1 {0} {1} {2}\".format(src_rec[0]+1,src_rec[1]+1,src_rec[2])\n",
    "        if src_rec[2] == 200:\n",
    "            line += \" conc-1\\n\"\n",
    "        else:\n",
    "            line += \" conc-2\\n\"\n",
    "        f.write(line)\n",
    "    f.write(\"END period 1\\n\")\n",
    "\n",
    "            \n",
    "    "
   ]
  },
  {
   "cell_type": "code",
   "execution_count": null,
   "id": "e3ce0a4f",
   "metadata": {},
   "outputs": [],
   "source": [
    "obs_shp = os.path.join(\"..\",\"..\",\"data\",\"sgn\",\"shp\",\"Target_L1_sept2019_head_PCE.shp\")\n",
    "shp = sf.Reader(obs_shp)\n",
    "print(shp.fields)"
   ]
  },
  {
   "cell_type": "code",
   "execution_count": null,
   "id": "3605f2e9",
   "metadata": {
    "scrolled": false
   },
   "outputs": [],
   "source": [
    "cobs_ij = []\n",
    "for s,r in zip(shp.shapes(),shp.records()):\n",
    "    #print(s.points[0])\n",
    "    pt = Point(*s.points[0])\n",
    "    src_cell = ix.intersect(pt)\n",
    "    #print(len(src_cell))\n",
    "    if len(src_cell) == 0:\n",
    "        print(\"out of grid\",r[0])\n",
    "        continue\n",
    "    #print(src_cell)\n",
    "    ij = list(src_cell[0][0])\n",
    "    if ij not in cobs_ij:\n",
    "        ij.append(r[0].lower())\n",
    "        cobs_ij.append(ij)\n",
    "    else:\n",
    "        print(\"same cell\",ij,r[0],[r for r in ij_conc if r == ij])"
   ]
  },
  {
   "cell_type": "code",
   "execution_count": null,
   "id": "b200dd02",
   "metadata": {},
   "outputs": [],
   "source": [
    "cobs_ij"
   ]
  },
  {
   "cell_type": "code",
   "execution_count": null,
   "id": "77899a48",
   "metadata": {},
   "outputs": [],
   "source": [
    "with open(os.path.join(model_ws,gwt_name+\".obs\"),'w') as f:\n",
    "    f.write(\"BEGIN options\\n DIGITS 15\\n PRINT_INPUT\\nEND options\\n\\n\")\n",
    "    f.write(\"BEGIN continuous FILEOUT conc_obs.csv\\n\")\n",
    "    for rec in cobs_ij:\n",
    "        f.write(\"{0} CONCENTRATION 1 {1} {2}\\n\".format(rec[2],int(rec[0])+1,int(rec[1])+1))\n",
    "    f.write(\"END continuous FILEOUT conc_obs.csv\\n\\n\")"
   ]
  },
  {
   "cell_type": "code",
   "execution_count": null,
   "id": "e96c446c",
   "metadata": {},
   "outputs": [],
   "source": []
  }
 ],
 "metadata": {
  "kernelspec": {
   "display_name": "Python 3 (ipykernel)",
   "language": "python",
   "name": "python3"
  },
  "language_info": {
   "codemirror_mode": {
    "name": "ipython",
    "version": 3
   },
   "file_extension": ".py",
   "mimetype": "text/x-python",
   "name": "python",
   "nbconvert_exporter": "python",
   "pygments_lexer": "ipython3",
   "version": "3.9.6"
  }
 },
 "nbformat": 4,
 "nbformat_minor": 5
}
