{
 "cells": [
  {
   "cell_type": "markdown",
   "id": "56d7b90a",
   "metadata": {},
   "source": [
    "# We need to make a table of well locations and abstraction/injection rates to provide to our building process using `modflow-setup`. Typically, these would be provided independently, but we will create them from the model made with pure `flopy` earlier."
   ]
  },
  {
   "cell_type": "code",
   "execution_count": null,
   "id": "c5bbc91a",
   "metadata": {},
   "outputs": [],
   "source": [
    "# first we need to import all the modules we will use\n",
    "import sys, os\n",
    "import pandas as pd\n",
    "sys.path.append('../../dependencies/')\n",
    "import flopy as fp"
   ]
  },
  {
   "cell_type": "markdown",
   "id": "3e82f1dd",
   "metadata": {},
   "source": [
    "### for MODFLOW 6 in `flopy`, we load the simulation and then run the `get_model()` method to return the model. We will be able to pull the well information from the groundwater flow model. Note that this step is required becuase a single MODFLOW 6 simulation can contain multiple models"
   ]
  },
  {
   "cell_type": "code",
   "execution_count": null,
   "id": "eccee367",
   "metadata": {},
   "outputs": [],
   "source": [
    "sim = fp.mf6.MFSimulation.load(sim_ws = '../../models/sgn_model_3layer/',\n",
    "                               load_only=['wel'])"
   ]
  },
  {
   "cell_type": "code",
   "execution_count": null,
   "id": "70ce4a69",
   "metadata": {},
   "outputs": [],
   "source": [
    "# here is the groundwater flow model\n",
    "gwf = sim.get_model()"
   ]
  },
  {
   "cell_type": "markdown",
   "id": "36b2838b",
   "metadata": {},
   "source": [
    "### let's confirm that there is only one stress period of well data defined - the `stress_period_data` data contains a dictionary, so we cen inspect the keys"
   ]
  },
  {
   "cell_type": "code",
   "execution_count": null,
   "id": "5459730c",
   "metadata": {},
   "outputs": [],
   "source": [
    "# yep - only one stress period (steady state)\n",
    "gwf.wel.stress_period_data.data.keys()"
   ]
  },
  {
   "cell_type": "code",
   "execution_count": null,
   "id": "e20a645a",
   "metadata": {},
   "outputs": [],
   "source": [
    "gwf.wel.stress_period_data.data[0]"
   ]
  },
  {
   "cell_type": "markdown",
   "id": "e228cca8",
   "metadata": {},
   "source": [
    "### the data are stored in a `numpy` `recarray` object but it is often easier to work with a `pandas` `DataFrame` object, so we can convert it"
   ]
  },
  {
   "cell_type": "code",
   "execution_count": null,
   "id": "f45f465b",
   "metadata": {
    "scrolled": false
   },
   "outputs": [],
   "source": [
    "spd = pd.DataFrame.from_records(gwf.wel.stress_period_data.data[0])\n",
    "spd.tail()"
   ]
  },
  {
   "cell_type": "markdown",
   "id": "eb2d30a6",
   "metadata": {},
   "source": [
    "### the `gwf` object contains a stack of arrays with the model top and all layer bottoms in it, so we can use that to determine where each well should be placed vertically"
   ]
  },
  {
   "cell_type": "code",
   "execution_count": null,
   "id": "12086f68",
   "metadata": {},
   "outputs": [],
   "source": [
    "gwf.modelgrid.top_botm"
   ]
  },
  {
   "cell_type": "markdown",
   "id": "865defb7",
   "metadata": {},
   "source": [
    "### we are going to use a bunch of list comprehension constructions, so here is a quick example and a [link](https://docs.python.org/3/tutorial/datastructures.html#list-comprehensions) to more information on how they work in python #powerful!"
   ]
  },
  {
   "cell_type": "code",
   "execution_count": null,
   "id": "de05826f",
   "metadata": {},
   "outputs": [],
   "source": [
    "[i**3 for i in range(5)]"
   ]
  },
  {
   "cell_type": "code",
   "execution_count": null,
   "id": "6b556c94",
   "metadata": {},
   "outputs": [],
   "source": [
    "spd['layer'] = [i[0] for i in spd.cellid]\n",
    "spd['cell'] = [i[1] for i in spd.cellid]\n",
    "spd['laytop'] = gwf.modelgrid.top_botm[spd.layer,spd.cell]\n",
    "spd['laybot'] = gwf.modelgrid.top_botm[spd.layer+1,spd.cell]\n",
    "spd['laymidpt'] = spd.laytop-(spd.laytop - spd.laybot)/2\n",
    "spd"
   ]
  },
  {
   "cell_type": "markdown",
   "id": "143ef750",
   "metadata": {},
   "source": [
    "### there's some encoded extra text in the boundnames (`\\x00`) that we can simply strip off each name"
   ]
  },
  {
   "cell_type": "code",
   "execution_count": null,
   "id": "09352124",
   "metadata": {},
   "outputs": [],
   "source": [
    "spd.iloc[0].boundname"
   ]
  },
  {
   "cell_type": "code",
   "execution_count": null,
   "id": "5ba7acd9",
   "metadata": {},
   "outputs": [],
   "source": [
    "spd['rootname'] = [i.replace('\\x00','').replace(\"well-\",\"\") for i in spd.boundname]"
   ]
  },
  {
   "cell_type": "code",
   "execution_count": null,
   "id": "e5b86073",
   "metadata": {},
   "outputs": [],
   "source": [
    "spd.iloc[0].rootname"
   ]
  },
  {
   "cell_type": "code",
   "execution_count": null,
   "id": "d159d6ef",
   "metadata": {},
   "outputs": [],
   "source": [
    "spd.dtypes"
   ]
  },
  {
   "cell_type": "markdown",
   "id": "1965fca5",
   "metadata": {},
   "source": [
    "### finally, let's add the layer number to each name in the `boundname` column"
   ]
  },
  {
   "cell_type": "code",
   "execution_count": null,
   "id": "15dbb8c6",
   "metadata": {},
   "outputs": [],
   "source": [
    "spd.boundname = [f'{i.rstrip()}__{lay}' for i,lay in zip(spd.rootname,spd.layer)]"
   ]
  },
  {
   "cell_type": "code",
   "execution_count": null,
   "id": "0687e2e5",
   "metadata": {},
   "outputs": [],
   "source": [
    "spd"
   ]
  },
  {
   "cell_type": "markdown",
   "id": "747159d0",
   "metadata": {},
   "source": [
    "### ...and save this out to a CSV file for use with `modflow-setup`"
   ]
  },
  {
   "cell_type": "code",
   "execution_count": null,
   "id": "77f90537",
   "metadata": {},
   "outputs": [],
   "source": [
    "spd.to_csv('../../data/sgn/wells_with_elev.dat')"
   ]
  }
 ],
 "metadata": {
  "kernelspec": {
   "display_name": "Python 3 (ipykernel)",
   "language": "python",
   "name": "python3"
  },
  "language_info": {
   "codemirror_mode": {
    "name": "ipython",
    "version": 3
   },
   "file_extension": ".py",
   "mimetype": "text/x-python",
   "name": "python",
   "nbconvert_exporter": "python",
   "pygments_lexer": "ipython3",
   "version": "3.9.2"
  }
 },
 "nbformat": 4,
 "nbformat_minor": 5
}
