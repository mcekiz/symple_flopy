{
 "cells": [
  {
   "cell_type": "code",
   "execution_count": null,
   "id": "e2c23525",
   "metadata": {},
   "outputs": [],
   "source": [
    "import geopandas as gp\n",
    "import sys, os\n",
    "import pandas as pd\n",
    "sys.path.append('../../dependencies/')\n",
    "import flopy as fp"
   ]
  },
  {
   "cell_type": "code",
   "execution_count": null,
   "id": "80760d9d",
   "metadata": {},
   "outputs": [],
   "source": [
    "sim = fp.mf6.MFSimulation.load(sim_ws = '../../models/sgn_model_3layer/', load_only=['wel'])"
   ]
  },
  {
   "cell_type": "code",
   "execution_count": null,
   "id": "6089737c",
   "metadata": {},
   "outputs": [],
   "source": [
    "gwf = sim.get_model()"
   ]
  },
  {
   "cell_type": "code",
   "execution_count": null,
   "id": "dc495b7c",
   "metadata": {},
   "outputs": [],
   "source": [
    "gwf.wel.stress_period_data.data[0]"
   ]
  },
  {
   "cell_type": "code",
   "execution_count": null,
   "id": "b4ec92fc",
   "metadata": {
    "scrolled": false
   },
   "outputs": [],
   "source": [
    "spd = pd.DataFrame.from_records(gwf.wel.stress_period_data.data[0])"
   ]
  },
  {
   "cell_type": "code",
   "execution_count": null,
   "id": "1d68301a",
   "metadata": {},
   "outputs": [],
   "source": [
    "gwf.modelgrid.top_botm"
   ]
  },
  {
   "cell_type": "code",
   "execution_count": null,
   "id": "298492c3",
   "metadata": {},
   "outputs": [],
   "source": [
    "spd['laytop'] = -99999\n",
    "spd['laybot'] = -99999\n",
    "spd['layer'] = [i[0] for i in spd.cellid]\n",
    "spd['cell'] = [i[1] for i in spd.cellid]\n",
    "spd['laytop'] = gwf.modelgrid.top_botm[spd.layer,spd.cell]\n",
    "spd['laybot'] = gwf.modelgrid.top_botm[spd.layer+1,spd.cell]\n",
    "spd['laymidpt'] = (spd.laytop - spd.laybot)/2"
   ]
  },
  {
   "cell_type": "code",
   "execution_count": null,
   "id": "01acf1ee",
   "metadata": {},
   "outputs": [],
   "source": [
    "spd.iloc[0].boundname"
   ]
  },
  {
   "cell_type": "code",
   "execution_count": null,
   "id": "31b1896b",
   "metadata": {},
   "outputs": [],
   "source": [
    "spd['rootname'] = [i.replace('\\x00','').replace(\"well-\",\"\") for i in spd.boundname]"
   ]
  },
  {
   "cell_type": "code",
   "execution_count": null,
   "id": "784147b8",
   "metadata": {},
   "outputs": [],
   "source": [
    "spd.iloc[0].rootname"
   ]
  },
  {
   "cell_type": "code",
   "execution_count": null,
   "id": "a34960f3",
   "metadata": {},
   "outputs": [],
   "source": [
    "spd.dtypes"
   ]
  },
  {
   "cell_type": "code",
   "execution_count": null,
   "id": "521ec24b",
   "metadata": {},
   "outputs": [],
   "source": [
    "spd.boundname = [f'{i.rstrip()}__{lay}' for i,lay in zip(spd.rootname,spd.layer)]"
   ]
  },
  {
   "cell_type": "code",
   "execution_count": null,
   "id": "655bffe7",
   "metadata": {},
   "outputs": [],
   "source": [
    "spd"
   ]
  },
  {
   "cell_type": "code",
   "execution_count": null,
   "id": "09d82a93",
   "metadata": {},
   "outputs": [],
   "source": [
    "spd.to_csv('../../data/sgn/wells_with_elev.dat')"
   ]
  }
 ],
 "metadata": {
  "kernelspec": {
   "display_name": "Python 3 (ipykernel)",
   "language": "python",
   "name": "python3"
  },
  "language_info": {
   "codemirror_mode": {
    "name": "ipython",
    "version": 3
   },
   "file_extension": ".py",
   "mimetype": "text/x-python",
   "name": "python",
   "nbconvert_exporter": "python",
   "pygments_lexer": "ipython3",
   "version": "3.9.6"
  }
 },
 "nbformat": 4,
 "nbformat_minor": 5
}
