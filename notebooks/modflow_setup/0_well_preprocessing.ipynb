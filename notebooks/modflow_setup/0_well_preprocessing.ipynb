{
 "cells": [
  {
   "cell_type": "code",
   "execution_count": null,
   "id": "c5bbc91a",
   "metadata": {},
   "outputs": [],
   "source": [
    "import geopandas as gp\n",
    "import sys, os\n",
    "import pandas as pd\n",
    "sys.path.append('../../dependencies/')\n",
    "import flopy as fp"
   ]
  },
  {
   "cell_type": "code",
   "execution_count": null,
   "id": "eccee367",
   "metadata": {},
   "outputs": [],
   "source": [
    "sim = fp.mf6.MFSimulation.load(sim_ws = '../../models/sgn_model_3layer/', load_only=['wel'])"
   ]
  },
  {
   "cell_type": "code",
   "execution_count": null,
   "id": "70ce4a69",
   "metadata": {},
   "outputs": [],
   "source": [
    "gwf = sim.get_model()"
   ]
  },
  {
   "cell_type": "code",
   "execution_count": null,
   "id": "5459730c",
   "metadata": {},
   "outputs": [],
   "source": [
    "gwf.wel.stress_period_data.data[0]"
   ]
  },
  {
   "cell_type": "code",
   "execution_count": null,
   "id": "f45f465b",
   "metadata": {
    "scrolled": false
   },
   "outputs": [],
   "source": [
    "spd = pd.DataFrame.from_records(gwf.wel.stress_period_data.data[0])"
   ]
  },
  {
   "cell_type": "code",
   "execution_count": null,
   "id": "12086f68",
   "metadata": {},
   "outputs": [],
   "source": [
    "gwf.modelgrid.top_botm"
   ]
  },
  {
   "cell_type": "code",
   "execution_count": null,
   "id": "6b556c94",
   "metadata": {},
   "outputs": [],
   "source": [
    "spd['laytop'] = -99999\n",
    "spd['laybot'] = -99999\n",
    "spd['layer'] = [i[0] for i in spd.cellid]\n",
    "spd['cell'] = [i[1] for i in spd.cellid]\n",
    "spd['laytop'] = gwf.modelgrid.top_botm[spd.layer,spd.cell]\n",
    "spd['laybot'] = gwf.modelgrid.top_botm[spd.layer+1,spd.cell]\n",
    "spd['laymidpt'] = (spd.laytop - spd.laybot)/2"
   ]
  },
  {
   "cell_type": "code",
   "execution_count": null,
   "id": "09352124",
   "metadata": {},
   "outputs": [],
   "source": [
    "spd.iloc[0].boundname"
   ]
  },
  {
   "cell_type": "code",
   "execution_count": null,
   "id": "5ba7acd9",
   "metadata": {},
   "outputs": [],
   "source": [
    "spd['rootname'] = [i.replace('\\x00','').replace(\"well-\",\"\") for i in spd.boundname]"
   ]
  },
  {
   "cell_type": "code",
   "execution_count": null,
   "id": "e5b86073",
   "metadata": {},
   "outputs": [],
   "source": [
    "spd.iloc[0].rootname"
   ]
  },
  {
   "cell_type": "code",
   "execution_count": null,
   "id": "d159d6ef",
   "metadata": {},
   "outputs": [],
   "source": [
    "spd.dtypes"
   ]
  },
  {
   "cell_type": "code",
   "execution_count": null,
   "id": "15dbb8c6",
   "metadata": {},
   "outputs": [],
   "source": [
    "spd.boundname = [f'{i.rstrip()}__{lay}' for i,lay in zip(spd.rootname,spd.layer)]"
   ]
  },
  {
   "cell_type": "code",
   "execution_count": null,
   "id": "9e8e35a6",
   "metadata": {},
   "outputs": [],
   "source": [
    "spd"
   ]
  },
  {
   "cell_type": "code",
   "execution_count": null,
   "id": "77f90537",
   "metadata": {},
   "outputs": [],
   "source": [
    "spd.to_csv('../../data/sgn/wells_with_elev.dat')"
   ]
  },
  {
   "cell_type": "code",
   "execution_count": null,
   "id": "26ab9672",
   "metadata": {},
   "outputs": [],
   "source": []
  },
  {
   "cell_type": "code",
   "execution_count": null,
   "id": "22bfe3fc",
   "metadata": {},
   "outputs": [],
   "source": []
  }
 ],
 "metadata": {
  "kernelspec": {
   "display_name": "Python 3 (ipykernel)",
   "language": "python",
   "name": "python3"
  },
  "language_info": {
   "codemirror_mode": {
    "name": "ipython",
    "version": 3
   },
   "file_extension": ".py",
   "mimetype": "text/x-python",
   "name": "python",
   "nbconvert_exporter": "python",
   "pygments_lexer": "ipython3",
   "version": "3.9.2"
  }
 },
 "nbformat": 4,
 "nbformat_minor": 5
}
