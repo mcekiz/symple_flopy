{
 "cells": [
  {
   "cell_type": "code",
   "execution_count": null,
   "id": "f96b3e8b",
   "metadata": {},
   "outputs": [],
   "source": [
    "import sys, os\n",
    "sys.path.append('../../dependencies/')\n",
    "import mfsetup\n",
    "import flopy as fp\n",
    "import flopy.utils as fu\n",
    "from flopy.utils.gridintersect import GridIntersect\n",
    "\n",
    "import shapefile as sf\n",
    "import pandas as pd\n",
    "import matplotlib.pyplot as plt\n",
    "import numpy as np\n",
    "from pathlib import Path\n",
    "from shapely.geometry import Point, LineString\n",
    "import geopandas as gp\n",
    "datapath = Path('../../data/sgn/')"
   ]
  },
  {
   "cell_type": "markdown",
   "id": "1cf9c41e",
   "metadata": {},
   "source": [
    "## one-liner to build the model"
   ]
  },
  {
   "cell_type": "code",
   "execution_count": null,
   "id": "972ea4f7",
   "metadata": {},
   "outputs": [],
   "source": [
    "# note that modflow setup changes the directory, so good idea to change back at the end\n",
    "stdir = os.getcwd()"
   ]
  },
  {
   "cell_type": "code",
   "execution_count": null,
   "id": "4e938b93",
   "metadata": {
    "scrolled": false
   },
   "outputs": [],
   "source": [
    "m = mfsetup.MF6model.setup_from_yaml('sgn_config.yml')"
   ]
  },
  {
   "cell_type": "code",
   "execution_count": null,
   "id": "2f85d9d5",
   "metadata": {},
   "outputs": [],
   "source": [
    "m.write_input()"
   ]
  },
  {
   "cell_type": "markdown",
   "id": "1f6231e1",
   "metadata": {},
   "source": [
    "### set up an intersection object"
   ]
  },
  {
   "cell_type": "code",
   "execution_count": null,
   "id": "06c36717",
   "metadata": {},
   "outputs": [],
   "source": [
    "ix = GridIntersect(m.modelgrid)"
   ]
  },
  {
   "cell_type": "markdown",
   "id": "420d6942",
   "metadata": {},
   "source": [
    "## need to add a GHB package - manually for now"
   ]
  },
  {
   "cell_type": "code",
   "execution_count": null,
   "id": "74784609",
   "metadata": {},
   "outputs": [],
   "source": [
    "# read in the boundary polygon\n",
    "boundary = gp.read_file(datapath / 'shp' / 'Model_domain.shp')\n",
    "\n",
    "# create a polyline from the polygon\n",
    "boundary_line =  LineString([Point(i) for i in boundary.iloc[0].geometry.exterior.coords])\n",
    "boundary_line\n",
    "\n",
    "# instersect the bounding polygon with the grid to get boundary cells\n",
    "ix_boundary = ix.intersect(boundary_line.buffer(25, resolution=4))"
   ]
  },
  {
   "cell_type": "code",
   "execution_count": null,
   "id": "433def84",
   "metadata": {},
   "outputs": [],
   "source": [
    "ix_df = pd.DataFrame.from_records(ix_boundary)\n",
    "ix_df.head()"
   ]
  },
  {
   "cell_type": "code",
   "execution_count": null,
   "id": "38616ea9",
   "metadata": {},
   "outputs": [],
   "source": [
    "# read in the september 2019 measured heads to make the GHB data\n",
    "sep19_head = fu.Raster.load(datapath / 'raster' / 'heads_sep2019.asc')\n",
    "plt.imshow(sep19_head.get_array(1))\n",
    "plt.colorbar()"
   ]
  },
  {
   "cell_type": "code",
   "execution_count": null,
   "id": "113499a4",
   "metadata": {},
   "outputs": [],
   "source": [
    "# resample these heads to the model\n",
    "head = sep19_head.resample_to_grid(m.modelgrid,band=sep19_head.bands[0], method=\"nearest\")"
   ]
  },
  {
   "cell_type": "code",
   "execution_count": null,
   "id": "a7f0101f",
   "metadata": {},
   "outputs": [],
   "source": [
    "# make the GHB stress period data\n",
    "ghb_spd = []\n",
    "for icpl in ix_boundary.cellids:\n",
    "    cond = 100.0\n",
    "    for layer in [0,2]:\n",
    "        # note - structured grid so *icpl unpacks row/col\n",
    "        ghb_spd.append([(layer, *icpl), head[icpl], cond, f'GHB{layer+1}'])\n",
    "       "
   ]
  },
  {
   "cell_type": "code",
   "execution_count": null,
   "id": "77e9d192",
   "metadata": {},
   "outputs": [],
   "source": [
    "# create the package\n",
    "ghb = fp.mf6.ModflowGwfghb(model=m, \n",
    "                                stress_period_data=ghb_spd, \n",
    "                                boundnames=True) "
   ]
  },
  {
   "cell_type": "markdown",
   "id": "73561332",
   "metadata": {},
   "source": [
    "## also need to add potentially flowing multi-aquifer wells manually for now "
   ]
  },
  {
   "cell_type": "code",
   "execution_count": null,
   "id": "0b308848",
   "metadata": {},
   "outputs": [],
   "source": [
    "# read in the zero-q wells\n",
    "maw_wells = pd.read_csv(datapath / 'wells_zero.csv', index_col = 0)\n",
    "maw_wells.head()"
   ]
  },
  {
   "cell_type": "markdown",
   "id": "5de52dcf",
   "metadata": {},
   "source": [
    "### reset the index for MAW wells to be sequential only among the remaining wells"
   ]
  },
  {
   "cell_type": "code",
   "execution_count": null,
   "id": "e84f7730",
   "metadata": {},
   "outputs": [],
   "source": [
    "# get the row/column location for each well\n",
    "maw_wells['cellid']=[ix.intersect(Point(x,y))[0][0] for x,y in zip(maw_wells.x,maw_wells.y)]\n",
    "maw_wells.head()"
   ]
  },
  {
   "cell_type": "code",
   "execution_count": null,
   "id": "ff980116",
   "metadata": {},
   "outputs": [],
   "source": [
    "# also get the top, bottom, and starting head of each cell containing a well\n",
    "maw_wells['top'] = [m.dis.top.array[r,c] for r,c in maw_wells.cellid]\n",
    "maw_wells['bot'] = [m.dis.botm.array[-1,r,c] for r,c in maw_wells.cellid]\n",
    "maw_wells['strt'] = [m.ic.strt.array[0,r,c] for r,c in maw_wells.cellid]\n"
   ]
  },
  {
   "cell_type": "markdown",
   "id": "f6de5882",
   "metadata": {},
   "source": [
    "## now make the package data\n",
    "## this takes the following format\n",
    "`packagedata : [wellno, radius, bottom, strt, condeqn, ngwfnodes, aux,  boundname]`\n",
    "where:\n",
    "* `wellno` is just a sequential number used later to identify the wells\n",
    "* `radius` is the radius in model units (assuming 10cm for now)\n",
    "* `bottom` is the bottom elevation of the well\n",
    "    * note: for `bottom` we are setting the wells to span the entire aquifer\n",
    "* `strt` is the starting head for the well (using the model starting head)\n",
    "* `condeq` is how conductance is calculated (we will use THIEM)\n",
    "* `ngwfnodes` is the number of nodes the well will be connected to. In our case, this is 3 - one for each layer that the cell is in\n",
    "* `aux` is the number of auxiliary values - we will have 0\n",
    "* `boundname` is a name for the well. We will use the name from the original data"
   ]
  },
  {
   "cell_type": "code",
   "execution_count": null,
   "id": "bd9befc4",
   "metadata": {},
   "outputs": [],
   "source": [
    "maw_radius = 0.1"
   ]
  },
  {
   "cell_type": "code",
   "execution_count": null,
   "id": "a023350d",
   "metadata": {},
   "outputs": [],
   "source": [
    "maw_packagedata = []\n",
    "for wellno,cwell in maw_wells.iterrows():\n",
    "    maw_packagedata.append([\n",
    "        wellno, maw_radius, cwell.bot, cwell.strt, 'THIEM', 3\n",
    "    ])"
   ]
  },
  {
   "cell_type": "markdown",
   "id": "ebbc2292",
   "metadata": {},
   "source": [
    "## now we need to set up the connection data\n",
    "## this take the following format\n",
    "`connectiondata : [wellno, icon, cellid, scrn_top, scrn_bot, hk_skin, radius_skin]`\n",
    "where:\n",
    "* `wellno` is the well number, as defined above\n",
    "* `icon` is the number of connections (3 in our case)\n",
    "* `cellid` is 3 integers indicating layer, row, and column\n",
    "* `scrn_top` is the top of the screen (the top of the model in our case)\n",
    "* `scrn_bot` is the bottom of the screen (the bottom of the model in our case)\n",
    "    * note: the previous elevations are ignored when THIEM is used to calculate conductance as MODFLOW6 uses the top and bottom of the cell automagically\n",
    "* `hk_skin` and `radius_skin` are also ignored when THIEM is used to calculate conductance\n"
   ]
  },
  {
   "cell_type": "code",
   "execution_count": null,
   "id": "51310519",
   "metadata": {},
   "outputs": [],
   "source": [
    "maw_connections = []\n",
    "for wellno,cwell in maw_wells.iterrows():\n",
    "    for clay in range(3):\n",
    "        maw_connections.append([\n",
    "            wellno, clay, clay, cwell.cellid[0], cwell.cellid[1], cwell.top, cwell.bot, -999, -999\n",
    "        ])\n"
   ]
  },
  {
   "cell_type": "code",
   "execution_count": null,
   "id": "5c45931d",
   "metadata": {},
   "outputs": [],
   "source": [
    "# explicitly set all pumping rates to 0\n",
    "maw_spd = [[i, 'rate', 0] for i in range(len(maw_wells))]"
   ]
  },
  {
   "cell_type": "markdown",
   "id": "cc85cf68",
   "metadata": {},
   "source": [
    "### now set the MAW package into the model if requested"
   ]
  },
  {
   "cell_type": "code",
   "execution_count": null,
   "id": "22b675a9",
   "metadata": {},
   "outputs": [],
   "source": [
    "include_MAW = False"
   ]
  },
  {
   "cell_type": "code",
   "execution_count": null,
   "id": "8dba3392",
   "metadata": {},
   "outputs": [],
   "source": [
    "if include_MAW:\n",
    "    maw = fp.mf6.ModflowGwfmaw(\n",
    "            model=m,\n",
    "            no_well_storage=True,\n",
    "            nmawwells=len(maw_wells),\n",
    "            packagedata=maw_packagedata,\n",
    "            connectiondata=maw_connections,\n",
    "            perioddata=maw_spd,\n",
    "        )\n",
    "    # set up some observations\n",
    "    obs_file = f\"{m.name}.maw.obs\"\n",
    "    csv_file = f\"{obs_file}.csv\"\n",
    "    head_obs =  [['head','head', i+1] for i in range(len(maw_wells))]\n",
    "    Qobs = []\n",
    "    for i in range(len(maw_wells)):\n",
    "        Qobs.extend([[f'Q.{i}_lay{j}', 'maw', i+1, j+1 ] for j in range(3)])\n",
    "    obs_dict = {\n",
    "        csv_file: \n",
    "        head_obs + Qobs\n",
    "    }\n",
    "    maw.obs.initialize(filename = obs_file, digits  = 8, print_input=True, continuous=obs_dict)"
   ]
  },
  {
   "cell_type": "code",
   "execution_count": null,
   "id": "37dcb490",
   "metadata": {},
   "outputs": [],
   "source": [
    "m.write_input()"
   ]
  },
  {
   "cell_type": "code",
   "execution_count": null,
   "id": "c6741479",
   "metadata": {},
   "outputs": [],
   "source": [
    "m.name"
   ]
  },
  {
   "cell_type": "code",
   "execution_count": null,
   "id": "ea8eba2b",
   "metadata": {},
   "outputs": [],
   "source": [
    "m.dis.export('testgrid.shp')"
   ]
  },
  {
   "cell_type": "markdown",
   "id": "d22d8bb0",
   "metadata": {},
   "source": [
    "## quick hack on IMS to turn off PTC"
   ]
  },
  {
   "cell_type": "code",
   "execution_count": null,
   "id": "93c68454",
   "metadata": {},
   "outputs": [],
   "source": [
    "ims = [i.rstrip() for i in open('../../models/sgn_mfsetup/sgn_50_sim.ims').readlines()]"
   ]
  },
  {
   "cell_type": "code",
   "execution_count": null,
   "id": "b0554837",
   "metadata": {},
   "outputs": [],
   "source": [
    "with open('../../models/sgn_mfsetup/sgn_50_sim.ims', 'w') as ofp:\n",
    "    [ofp.write(\"{}\\n\".format(line.replace('END options', '  NO_PTC ALL\\nEND options'))) for line in ims]"
   ]
  },
  {
   "cell_type": "code",
   "execution_count": null,
   "id": "a621cc63",
   "metadata": {},
   "outputs": [],
   "source": [
    "os.system('mf6')"
   ]
  },
  {
   "cell_type": "code",
   "execution_count": null,
   "id": "05d6aa79",
   "metadata": {},
   "outputs": [],
   "source": [
    "top = m.dis.top.array"
   ]
  },
  {
   "cell_type": "code",
   "execution_count": null,
   "id": "dddcf740",
   "metadata": {},
   "outputs": [],
   "source": [
    "plt.imshow(top)"
   ]
  },
  {
   "cell_type": "code",
   "execution_count": null,
   "id": "d2d29541",
   "metadata": {},
   "outputs": [],
   "source": [
    "h = fu.binaryfile.HeadFile('../../models/sgn_mfsetup/sgn_50.hds').get_alldata()"
   ]
  },
  {
   "cell_type": "code",
   "execution_count": null,
   "id": "9f019e26",
   "metadata": {},
   "outputs": [],
   "source": [
    "h.shape"
   ]
  },
  {
   "cell_type": "code",
   "execution_count": null,
   "id": "90faeb30",
   "metadata": {},
   "outputs": [],
   "source": [
    "plt.imshow(np.squeeze(h)[0][0])\n",
    "plt.colorbar()"
   ]
  },
  {
   "cell_type": "code",
   "execution_count": null,
   "id": "6a5c5822",
   "metadata": {},
   "outputs": [],
   "source": [
    "plt.imshow(np.squeeze(h)[1][0])\n",
    "plt.colorbar()"
   ]
  },
  {
   "cell_type": "markdown",
   "id": "00986cde",
   "metadata": {},
   "source": [
    "### make sure the barrier well shows up in the secondx stress period"
   ]
  },
  {
   "cell_type": "code",
   "execution_count": null,
   "id": "368af558",
   "metadata": {},
   "outputs": [],
   "source": [
    "plt.imshow(np.squeeze(h)[1][0]-np.squeeze(h)[0][0])\n",
    "plt.colorbar()"
   ]
  },
  {
   "cell_type": "markdown",
   "id": "c4fedc40",
   "metadata": {},
   "source": [
    "### check flooding"
   ]
  },
  {
   "cell_type": "code",
   "execution_count": null,
   "id": "935d533d",
   "metadata": {},
   "outputs": [],
   "source": [
    "flooded = top-np.squeeze(h)[0][0]\n",
    "plt.imshow(flooded)\n",
    "plt.colorbar()"
   ]
  },
  {
   "cell_type": "code",
   "execution_count": null,
   "id": "8788850c",
   "metadata": {},
   "outputs": [],
   "source": [
    "flooded[flooded>0] = np.nan\n",
    "plt.imshow(flooded)\n",
    "plt.colorbar()"
   ]
  },
  {
   "cell_type": "code",
   "execution_count": null,
   "id": "f4cc1582",
   "metadata": {},
   "outputs": [],
   "source": [
    "df1,df2 = fu.Mf6ListBudget('../../models/sgn_mfsetup/sgn_50.list').get_dataframes(start_datetime='2020-12-31')"
   ]
  },
  {
   "cell_type": "code",
   "execution_count": null,
   "id": "8b68b919",
   "metadata": {},
   "outputs": [],
   "source": [
    "df1"
   ]
  },
  {
   "cell_type": "code",
   "execution_count": null,
   "id": "d592657b",
   "metadata": {},
   "outputs": [],
   "source": [
    "df2"
   ]
  },
  {
   "cell_type": "markdown",
   "id": "eea3a63d",
   "metadata": {},
   "source": [
    "## check out the MAW obs"
   ]
  },
  {
   "cell_type": "code",
   "execution_count": null,
   "id": "eb61771b",
   "metadata": {},
   "outputs": [],
   "source": [
    "if include_MAW:\n",
    "    maw_df = pd.read_csv('../../models/sgn_mfsetup/sgn_50.maw.obs.csv', index_col=0)"
   ]
  },
  {
   "cell_type": "code",
   "execution_count": null,
   "id": "ae12702c",
   "metadata": {},
   "outputs": [],
   "source": [
    "maw_df"
   ]
  },
  {
   "cell_type": "code",
   "execution_count": null,
   "id": "4531b653",
   "metadata": {},
   "outputs": [],
   "source": []
  }
 ],
 "metadata": {
  "kernelspec": {
   "display_name": "Python 3 (ipykernel)",
   "language": "python",
   "name": "python3"
  },
  "language_info": {
   "codemirror_mode": {
    "name": "ipython",
    "version": 3
   },
   "file_extension": ".py",
   "mimetype": "text/x-python",
   "name": "python",
   "nbconvert_exporter": "python",
   "pygments_lexer": "ipython3",
   "version": "3.9.7"
  }
 },
 "nbformat": 4,
 "nbformat_minor": 5
}
