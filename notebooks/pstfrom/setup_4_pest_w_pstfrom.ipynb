{
 "cells": [
  {
   "cell_type": "markdown",
   "id": "48e10c67",
   "metadata": {},
   "source": [
    "# Setting up for PEST(++) analyses\n",
    "\n",
    "In this notebook, we will use the MF6 model that was built using `modflow-setup`.  We will constuct the PEST interface (e.g. template files, instruction files, control file), as well as generate the prior parameter ensemble.  The best part is, this will all be done programmatically! That means whenever \"issues\" are discovered, it is easier to recover..."
   ]
  },
  {
   "cell_type": "code",
   "execution_count": null,
   "id": "8a2c8d89",
   "metadata": {},
   "outputs": [],
   "source": [
    "import sys\n",
    "import os\n",
    "import shutil\n",
    "import warnings\n",
    "warnings.filterwarnings(\"ignore\")\n",
    "warnings.filterwarnings(\"ignore\", category=DeprecationWarning) \n",
    "sys.path.append('../../dependencies/')\n",
    "import pandas as pd\n",
    "import numpy as np\n",
    "import matplotlib as mpl\n",
    "font = {'size'   : 12}\n",
    "mpl.rc('font', **font)\n",
    "import flopy as fp\n",
    "import pyemu\n",
    "\n",
    "\n"
   ]
  },
  {
   "cell_type": "markdown",
   "id": "e6783ca6",
   "metadata": {},
   "source": [
    "## preparing for `PstFrom`\n",
    "\n",
    "The `PstFrom` class in `pyEMU` can automate the PEST(++) setup process.  `PstFrom` expects model input and output files to be either array format (2-d homogenous data type) or list format (heterogenous data type by columns).  So this means we need to get the MF6 model to use \"external\" format so that all input quantities we are interested in are stored in stand-alone files. Luckily, `flopy` can do this operation for us..."
   ]
  },
  {
   "cell_type": "code",
   "execution_count": null,
   "id": "2716dd26",
   "metadata": {},
   "outputs": [],
   "source": [
    "# the original directory that holds the MF6 files\n",
    "org_d = os.path.join(\"..\",\"..\",\"models\",\"sgn_mfsetup_transport\")\n",
    "assert os.path.exists(org_d),\"need to run mfsetup notebooks\"\n",
    "# the model base name\n",
    "mname = \"sgn_50\"\n",
    "assert os.path.exists(os.path.join(org_d,mname+\".nam\"))\n",
    "# a temporary directory that will hold the model files\n",
    "tmp_d = os.path.join(\"..\",\"..\",\"models\",\"pstfrom_temp\")\n",
    "if os.path.exists(tmp_d):\n",
    "    shutil.rmtree(tmp_d)"
   ]
  },
  {
   "cell_type": "markdown",
   "id": "782cdb2c",
   "metadata": {},
   "source": [
    "Load the existing model and convert it to \"external\" input files (arrays and lists).  Having the array and list inputs as external files makes everything in the pest world easier..."
   ]
  },
  {
   "cell_type": "code",
   "execution_count": null,
   "id": "714a6c3d",
   "metadata": {},
   "outputs": [],
   "source": [
    "sim = fp.mf6.MFSimulation.load(sim_ws=org_d)\n",
    "sim.simulation_data.mfpath.set_sim_path(tmp_d)\n",
    "m = sim.get_model(mname)\n",
    "sim.set_all_data_external(check_data=True)\n",
    "sim.write_simulation()\n"
   ]
  },
  {
   "cell_type": "code",
   "execution_count": null,
   "id": "08c57ca0",
   "metadata": {},
   "outputs": [],
   "source": [
    "os.listdir(tmp_d)"
   ]
  },
  {
   "cell_type": "markdown",
   "id": "f72c3992",
   "metadata": {},
   "source": [
    "OK!  So we see now that `tmp_d` contains all the MF6 input files and both the array and list quantities are in external files.  Let's make sure the model will run (always important!)"
   ]
  },
  {
   "cell_type": "code",
   "execution_count": null,
   "id": "b59c7751",
   "metadata": {},
   "outputs": [],
   "source": [
    "pyemu.os_utils.run(\"mf6\",cwd=tmp_d)"
   ]
  },
  {
   "cell_type": "markdown",
   "id": "e3d30a26",
   "metadata": {},
   "source": [
    "Now we are ready to start setting up for PEST(++) with `PstFrom`.  First, let's copy dependecies into the `tmp_d` directory so that they will be carried along|"
   ]
  },
  {
   "cell_type": "code",
   "execution_count": null,
   "id": "4b664993",
   "metadata": {},
   "outputs": [],
   "source": [
    "shutil.copytree(os.path.join(\"..\",\"..\",\"dependencies\",\"flopy\"),os.path.join(tmp_d,\"flopy\"))\n",
    "shutil.copytree(os.path.join(\"..\",\"..\",\"dependencies\",\"pyemu\"),os.path.join(tmp_d,\"pyemu\"))\n",
    "shutil.copy2(\"helpers.py\",os.path.join(tmp_d,\"helpers.py\"))\n",
    "shutil.copy2(os.path.join(\"..\",\"..\",\"bin\",\"mf6.exe\"),os.path.join(tmp_d,\"mf6.exe\"))\n",
    "shutil.copy2(os.path.join(\"..\",\"..\",\"bin\",\"pestpp-ies.exe\"),os.path.join(tmp_d,\"pestpp-ies.exe\"))\n"
   ]
  },
  {
   "cell_type": "markdown",
   "id": "389c7cec",
   "metadata": {},
   "source": [
    "Now let's create our `PstFrom` instance.  It will copy the `tmp_d` to `t_d` directory and then setup the pest interface files in `t_d`, leaving `tmp_d` untouched (nice!).  "
   ]
  },
  {
   "cell_type": "code",
   "execution_count": null,
   "id": "0b692be0",
   "metadata": {},
   "outputs": [],
   "source": [
    "t_d = os.path.join(\"..\",\"..\",\"models\",\"template\")\n",
    "pf = pyemu.utils.PstFrom(tmp_d,t_d,remove_existing=True,spatial_reference=m.modelgrid,zero_based=False,echo=False)"
   ]
  },
  {
   "cell_type": "markdown",
   "id": "4f7d6201",
   "metadata": {},
   "source": [
    "Now we should have a complete set of model files in `template`:"
   ]
  },
  {
   "cell_type": "code",
   "execution_count": null,
   "id": "14276ae6",
   "metadata": {},
   "outputs": [],
   "source": [
    "os.listdir(t_d)"
   ]
  },
  {
   "cell_type": "markdown",
   "id": "1d532eac",
   "metadata": {},
   "source": [
    "We see that all the same files from `tmp_d` and now in `t_d`, with the addition of the `flopy` and `pyemu` directories.  Now we are going to create a geostatistical structure that will be used to give us coherent correlation in spatially distributed parameter types (to keep the geologist happy!).  In the absense of direct variogram information, we are going to generate a variogram range that is a function of the cell-spacing of the model..."
   ]
  },
  {
   "cell_type": "code",
   "execution_count": null,
   "id": "e46205d9",
   "metadata": {},
   "outputs": [],
   "source": [
    "a = min(m.dis.delr.data.min(),m.dis.delc.data.min()) * min(m.dis.ncol.data,m.dis.nrow.data) * 0.25\n",
    "print(a)\n",
    "# creat an exponential variogram\n",
    "v = pyemu.geostats.ExpVario(contribution=1.0,a=a)\n",
    "# create a geostruct with the variogram\n",
    "gs = pyemu.geostats.GeoStruct(variograms=v,transform=\"log\")"
   ]
  },
  {
   "cell_type": "markdown",
   "id": "07adaefd",
   "metadata": {},
   "source": [
    "So that is our correlation length.Let's take a look at the geostatistical structure in graphical form:"
   ]
  },
  {
   "cell_type": "code",
   "execution_count": null,
   "id": "2df7bc01",
   "metadata": {},
   "outputs": [],
   "source": [
    "_ = gs.plot()"
   ]
  },
  {
   "cell_type": "markdown",
   "id": "2041a5c4",
   "metadata": {},
   "source": [
    "Sweet!  Now lets add some parameters.  We will focus on horizontal hydraulic conductivity because, well, we are groundwater modellers and we are crazy about HK!\n"
   ]
  },
  {
   "cell_type": "code",
   "execution_count": null,
   "id": "4e417671",
   "metadata": {},
   "outputs": [],
   "source": [
    "tag = \"npf_k\"\n",
    "files = [f for f in os.listdir(t_d) if tag in f.lower() and f.endswith(\".txt\")]\n",
    "print(files)"
   ]
  },
  {
   "cell_type": "markdown",
   "id": "de7e1c34",
   "metadata": {},
   "source": [
    "So those are the array files for MF6 that are for HK.  Let's do something fancy:  let's setup multiple spatial scales of parameters for HK.  The coarse scale will be a `constant` single value for each array.  The medium scale will pilot points and the finest scale will use parameters as the `grid` scale - each model cell!  Each scale of parameters will work with the others as multipliers with the existing HK arrays - this all happens at runtime.  "
   ]
  },
  {
   "cell_type": "code",
   "execution_count": null,
   "id": "88f40ce0",
   "metadata": {},
   "outputs": [],
   "source": [
    "for f in files:\n",
    "    pf.add_parameters(f,par_type=\"grid\",geostruct=gs,par_name_base=f.split('.')[1]+\"_gr\",pargp=f.split('.')[1]+\"_gr\",\n",
    "                     lower_bound=0.2,upper_bound=5.0)\n",
    "    pf.add_parameters(f,par_type=\"constant\",geostruct=gs,par_name_base=f.split('.')[1]+\"_cn\",\n",
    "                      pargp=f.split('.')[1]+\"_cn\",\n",
    "                     lower_bound=0.2,upper_bound=5.0)\n",
    "    pf.add_parameters(f,par_type=\"pilotpoints\",geostruct=gs,par_name_base=f.split('.')[1]+\"_pp\",\n",
    "                      pargp=f.split('.')[1]+\"_pp\",\n",
    "                     lower_bound=0.2,upper_bound=5.0,pp_space=4)"
   ]
  },
  {
   "cell_type": "markdown",
   "id": "8a3f849d",
   "metadata": {},
   "source": [
    "Boom! that was easy...now lets do the same for recharge (because we can!):"
   ]
  },
  {
   "cell_type": "code",
   "execution_count": null,
   "id": "52e5eca5",
   "metadata": {},
   "outputs": [],
   "source": [
    "tag = \"rcha_recharge\"\n",
    "files = [f for f in os.listdir(t_d) if tag in f.lower() and f.endswith(\".txt\")]\n",
    "print(files)\n",
    "for f in files:\n",
    "    pf.add_parameters(f,par_type=\"grid\",geostruct=gs,par_name_base=f.split('.')[1]+\"_gr\",\n",
    "                      pargp=f.split('.')[1]+\"_gr\",\n",
    "                     lower_bound = 0.8,upper_bound=1.2)\n",
    "    pf.add_parameters(f,par_type=\"constant\",geostruct=gs,par_name_base=f.split('.')[1]+\"_cn\",\n",
    "                      pargp=f.split('.')[1]+\"_cn\",\n",
    "                     lower_bound=0.8,upper_bound=1.2)\n",
    "    pf.add_parameters(f,par_type=\"pilotpoints\",geostruct=gs,par_name_base=f.split('.')[1]+\"_pp\",\n",
    "                      pargp=f.split('.')[1]+\"_pp\",\n",
    "                     lower_bound=0.8,upper_bound=1.2,pp_space=4)\n",
    "    "
   ]
  },
  {
   "cell_type": "markdown",
   "id": "69b22290",
   "metadata": {},
   "source": [
    "And dont forget transport properties:"
   ]
  },
  {
   "cell_type": "code",
   "execution_count": null,
   "id": "b0252753",
   "metadata": {},
   "outputs": [],
   "source": [
    "\n",
    "tag = \"mst_porosity\"\n",
    "files = [f for f in os.listdir(t_d) if tag in f.lower() and f.endswith(\".txt\")]\n",
    "print(files)\n",
    "for f in files:\n",
    "    pf.add_parameters(f,par_type=\"grid\",geostruct=gs,par_name_base=f.split('.')[1]+\"_gr\",\n",
    "                      pargp=f.split('.')[1]+\"_gr\",\n",
    "                     lower_bound = 0.8,upper_bound=1.2,ult_ubound=0.2,ult_lbound=0.01)\n",
    "    pf.add_parameters(f,par_type=\"constant\",geostruct=gs,par_name_base=f.split('.')[1]+\"_cn\",\n",
    "                      pargp=f.split('.')[1]+\"_cn\",\n",
    "                     lower_bound=0.8,upper_bound=1.2,ult_ubound=0.2,ult_lbound=0.01)\n",
    "    pf.add_parameters(f,par_type=\"pilotpoints\",geostruct=gs,par_name_base=f.split('.')[1]+\"_pp\",\n",
    "                      pargp=f.split('.')[1]+\"_pp\",\n",
    "                     lower_bound=0.8,upper_bound=1.2,pp_space=4,ult_ubound=0.2,ult_lbound=0.01)"
   ]
  },
  {
   "cell_type": "markdown",
   "id": "35563d45",
   "metadata": {},
   "source": [
    "Now this will make some people uncomfortable but how well do we really ever know historic water use flux rates in space and in time? hmmm, not really! So lets add parameters to represent that uncertainty in the model inputs: "
   ]
  },
  {
   "cell_type": "code",
   "execution_count": null,
   "id": "d99c1a36",
   "metadata": {},
   "outputs": [],
   "source": [
    "tag = \"wel_stress_period_data\"\n",
    "files = [f for f in os.listdir(t_d) if tag in f.lower() and f.endswith(\".txt\")]\n",
    "print(files)\n",
    "for f in files:\n",
    "    kper = int(f.split('.')[1].split('_')[-1])\n",
    "    name = \"welflux_{0:04d}\".format(kper)\n",
    "    pf.add_parameters(f,par_type=\"grid\",geostruct=gs,par_name_base=name,pargp=name,\n",
    "                     index_cols=[0,1,2],use_cols=[3],lower_bound=0.5,upper_bound=1.5)"
   ]
  },
  {
   "cell_type": "markdown",
   "id": "5321a1e1",
   "metadata": {},
   "source": [
    "What about those ghb stages along the boundaries of the model?  Maybe we should consider their uncertainty also?  Since these boundaries are likely to be very influential, we want to include a robust representation of their uncertainty - both stage and conductance and at multiple scales.  "
   ]
  },
  {
   "cell_type": "code",
   "execution_count": null,
   "id": "aa3b36f9",
   "metadata": {},
   "outputs": [],
   "source": [
    "tag = \"ghb_stress_period_data\"\n",
    "files = [f for f in os.listdir(t_d) if tag in f.lower() and f.endswith(\".txt\")]\n",
    "print(files)\n",
    "for f in files:\n",
    "    kper = int(f.split('.')[1].split('_')[-1])\n",
    "    \n",
    "    # constant and grid scale multiplier conductance parameters\n",
    "    name = \"ghbcond_{0:04d}\".format(kper)\n",
    "    pf.add_parameters(f,par_type=\"grid\",geostruct=gs,par_name_base=name+\"_gr\",pargp=name+\"_gr\",\n",
    "                     index_cols=[0,1,2],use_cols=[4],lower_bound=0.1,upper_bound=10.0)\n",
    "    pf.add_parameters(f,par_type=\"constant\",geostruct=gs,par_name_base=name+\"_cn\",pargp=name+\"_cn\",\n",
    "                     index_cols=[0,1,2],use_cols=[4],lower_bound=0.1,upper_bound=10.0)\n",
    "    \n",
    "    # constant and grid scale additive stage parameters\n",
    "    name = \"ghbstage_{0:04d}\".format(kper)\n",
    "    pf.add_parameters(f,par_type=\"grid\",geostruct=gs,par_name_base=name+\"_gr\",pargp=name+\"_gr\",\n",
    "                     index_cols=[0,1,2],use_cols=[3],par_style=\"a\",lower_bound=-2.0,upper_bound=2.0,\n",
    "                     transform=\"none\")\n",
    "    pf.add_parameters(f,par_type=\"constant\",geostruct=gs,par_name_base=name+\"_cn\",pargp=name+\"_cn\",\n",
    "                     index_cols=[0,1,2],use_cols=[3],lower_bound=-2.0,upper_bound=2.0,par_style=\"a\",\n",
    "                     transform=\"none\")\n",
    "    "
   ]
  },
  {
   "cell_type": "markdown",
   "id": "0f6b5078",
   "metadata": {},
   "source": [
    "and who could forget SFR conductance!"
   ]
  },
  {
   "cell_type": "code",
   "execution_count": null,
   "id": "d42e7ef8",
   "metadata": {},
   "outputs": [],
   "source": [
    "tag = \"sfr_packagedata\"\n",
    "files = [f for f in os.listdir(t_d) if tag in f.lower() and f.endswith(\".txt\")]\n",
    "assert len(files) == 1\n",
    "print(files)\n",
    "f = files[0]\n",
    "# constant and grid scale multiplier conductance parameters\n",
    "name = \"sfrcond\"\n",
    "pf.add_parameters(f,par_type=\"grid\",geostruct=gs,par_name_base=name+\"_gr\",pargp=name+\"_gr\",\n",
    "                 index_cols=[0,2,3],use_cols=[9],lower_bound=0.1,upper_bound=10.0)\n",
    "pf.add_parameters(f,par_type=\"constant\",geostruct=gs,par_name_base=name+\"_cn\",pargp=name+\"_cn\",\n",
    "                 index_cols=[0,2,3],use_cols=[9],lower_bound=0.1,upper_bound=10.0)\n",
    "\n"
   ]
  },
  {
   "cell_type": "markdown",
   "id": "bca12d48",
   "metadata": {},
   "source": [
    "And let's also consider source loading concentration"
   ]
  },
  {
   "cell_type": "code",
   "execution_count": null,
   "id": "43ca9888",
   "metadata": {},
   "outputs": [],
   "source": [
    "tag = \"cnc_stress_period_data\"\n",
    "files = [f for f in os.listdir(t_d) if tag in f.lower() and f.endswith(\".txt\")]\n",
    "assert len(files) == 1\n",
    "print(files)\n",
    "f = files[0]\n",
    "name = \"cnc\"\n",
    "pf.add_parameters(f,par_type=\"grid\",geostruct=gs,par_name_base=name+\"_gr\",pargp=name+\"_gr\",\n",
    "                 index_cols=[0,1,2],use_cols=[3],lower_bound=0.1,upper_bound=10.0)\n",
    "pf.add_parameters(f,par_type=\"constant\",geostruct=gs,par_name_base=name+\"_cn\",pargp=name+\"_cn\",\n",
    "                 index_cols=[0,1,2],use_cols=[3],lower_bound=0.1,upper_bound=10.0)"
   ]
  },
  {
   "cell_type": "markdown",
   "id": "cb63b4cb",
   "metadata": {},
   "source": [
    "Sweet!  thats heaps of parameters - exactly what we wanted.  Now lets setup some observations in the pest control file.  To start, we need to run a simple post processor that will extract the simulated water levels from the binary headsave file and save to an ASCII file, and also process the list budget file into csv files.  Let's see what is in this helpers script:"
   ]
  },
  {
   "cell_type": "code",
   "execution_count": null,
   "id": "18138e83",
   "metadata": {},
   "outputs": [],
   "source": [
    "[l.strip() for l in open(\"helpers.py\",'r').readlines()]"
   ]
  },
  {
   "cell_type": "markdown",
   "id": "3750883e",
   "metadata": {},
   "source": [
    "Just some basic python hackery there! The top bit extracts the simulated groundwater levels from the binary headsave file and saves to an ASCII array (why can't MF6 save ASCII???) and the lower part parses the list file for volume budget information. \n",
    "\n",
    "Now lets run this function in the `t_d` directory to generate some output files that we can use for setting up observations:"
   ]
  },
  {
   "cell_type": "code",
   "execution_count": null,
   "id": "718ec57c",
   "metadata": {},
   "outputs": [],
   "source": [
    "pyemu.os_utils.run(\"python helpers.py\",cwd=t_d)"
   ]
  },
  {
   "cell_type": "markdown",
   "id": "cfad56bc",
   "metadata": {},
   "source": [
    "first lets add some sfr observations"
   ]
  },
  {
   "cell_type": "code",
   "execution_count": null,
   "id": "91e5c514",
   "metadata": {},
   "outputs": [],
   "source": [
    "df = pf.add_observations(mname+\".sfr.obs.output.csv\",index_cols=0,prefix=\"sw\")"
   ]
  },
  {
   "cell_type": "markdown",
   "id": "ca5624f4",
   "metadata": {},
   "source": [
    "add the MF6 head obs output file"
   ]
  },
  {
   "cell_type": "code",
   "execution_count": null,
   "id": "ca152563",
   "metadata": {},
   "outputs": [],
   "source": [
    "df = pf.add_observations(mname+\".head.obs\",index_cols=[0],prefix=\"head\",ofile_sep=',')"
   ]
  },
  {
   "cell_type": "markdown",
   "id": "3fbbefff",
   "metadata": {},
   "source": [
    "and MF6 concentration obs output file"
   ]
  },
  {
   "cell_type": "code",
   "execution_count": null,
   "id": "82830ecb",
   "metadata": {},
   "outputs": [],
   "source": [
    "df = pf.add_observations(\"conc_obs.csv\",index_cols=[0],prefix=\"concen\",ofile_sep=',')"
   ]
  },
  {
   "cell_type": "markdown",
   "id": "1a36b660",
   "metadata": {},
   "source": [
    "lets add a pest observation for every active model cell.  Why?  because we can! and because in an ensemble-based workflow, the cost of getting just one new simulated output is high, so its easier to just carry all the outputs you can think of - its just storage since these outputs arent used for any calculations"
   ]
  },
  {
   "cell_type": "code",
   "execution_count": null,
   "id": "6dd1463c",
   "metadata": {
    "scrolled": true
   },
   "outputs": [],
   "source": [
    "hds_files = [f for f in os.listdir(t_d) if f.endswith(\"hds.dat\")]\n",
    "assert len(hds_files) == m.dis.nlay.data * sim.tdis.nper.data,len(hds_files)\n",
    "for hds_file in hds_files:\n",
    "    pf.add_observations(hds_file,obsgp=hds_file.split('.')[1],prefix=hds_file.split('.')[1])"
   ]
  },
  {
   "cell_type": "markdown",
   "id": "4ff3a209",
   "metadata": {},
   "source": [
    "And the same for simulated concentrations...."
   ]
  },
  {
   "cell_type": "code",
   "execution_count": null,
   "id": "371f9f95",
   "metadata": {},
   "outputs": [],
   "source": [
    "ucn_files = [f for f in os.listdir(t_d) if f.endswith(\"ucn.dat\")]\n",
    "assert len(ucn_files) == m.dis.nlay.data * sim.tdis.nper.data,len(ucn_file)\n",
    "for ucn_file in ucn_files:\n",
    "    pf.add_observations(ucn_file,obsgp=ucn_file.split('.')[1],prefix=ucn_file.split('.')[1])"
   ]
  },
  {
   "cell_type": "markdown",
   "id": "f94760c0",
   "metadata": {},
   "source": [
    "And also observations for the cumulative and incremental list file budget - these are great diagnostic quantities to keep track of!"
   ]
  },
  {
   "cell_type": "code",
   "execution_count": null,
   "id": "4dfb282e",
   "metadata": {},
   "outputs": [],
   "source": [
    "df = pd.read_csv(os.path.join(t_d,\"inc.csv\"),index_col=0)\n",
    "pf.add_observations(\"inc.csv\",index_cols=[\"time\"],use_cols=df.columns.tolist(),obsgp=\"inc\")\n",
    "df = pd.read_csv(os.path.join(t_d,\"cum.csv\"),index_col=0)\n",
    "pf.add_observations(\"cum.csv\",index_cols=[\"time\"],use_cols=df.columns.tolist(),obsgp=\"cum\")"
   ]
  },
  {
   "cell_type": "code",
   "execution_count": null,
   "id": "ab232fb1",
   "metadata": {},
   "outputs": [],
   "source": [
    "df = pd.read_csv(os.path.join(t_d,\"tcum.csv\"),index_col=0)\n",
    "pf.add_observations(\"tcum.csv\",index_cols=[\"time\"],use_cols=df.columns.tolist(),obsgp=\"tcum\")\n",
    "df = pd.read_csv(os.path.join(t_d,\"tinc.csv\"),index_col=0)\n",
    "pf.add_observations(\"tinc.csv\",index_cols=[\"time\"],use_cols=df.columns.tolist(),obsgp=\"tinc\")"
   ]
  },
  {
   "cell_type": "markdown",
   "id": "d3dceadf",
   "metadata": {},
   "source": [
    "Always a good idea to remove intermediate processing files to help prevent them getting used erroneously"
   ]
  },
  {
   "cell_type": "code",
   "execution_count": null,
   "id": "57265f6a",
   "metadata": {},
   "outputs": [],
   "source": [
    "pf.tmp_files.append(mname+\".hds\")\n",
    "pf.tmp_files.append(\"gwt-sgn.ucn\")\n",
    "pf.tmp_files.append(mname+\".list\")\n",
    "pf.tmp_files.append(\"gwt-sgn.list\")"
   ]
  },
  {
   "cell_type": "markdown",
   "id": "2b1c7161",
   "metadata": {},
   "source": [
    "Now we need to tell `PstFrom` that we want that `helpers.py` script to run after MF6, every time that MF6 runs. We will use a method that reads python source files and extracts functions (wat?!):"
   ]
  },
  {
   "cell_type": "code",
   "execution_count": null,
   "id": "9a377df5",
   "metadata": {},
   "outputs": [],
   "source": [
    "pf.add_py_function(\"helpers.py\",\"postproc()\",is_pre_cmd=False)"
   ]
  },
  {
   "cell_type": "markdown",
   "id": "1f2f318f",
   "metadata": {},
   "source": [
    "Now we just need to set the model run command"
   ]
  },
  {
   "cell_type": "code",
   "execution_count": null,
   "id": "b968533f",
   "metadata": {},
   "outputs": [],
   "source": [
    "pf.mod_sys_cmds.append(\"mf6\")"
   ]
  },
  {
   "cell_type": "markdown",
   "id": "93179914",
   "metadata": {},
   "source": [
    "Magic time!:"
   ]
  },
  {
   "cell_type": "code",
   "execution_count": null,
   "id": "ca20f7c0",
   "metadata": {
    "scrolled": true
   },
   "outputs": [],
   "source": [
    "pf.build_pst()"
   ]
  },
  {
   "cell_type": "code",
   "execution_count": null,
   "id": "89b434ca",
   "metadata": {},
   "outputs": [],
   "source": [
    "[f for f in os.listdir(t_d) if f[-3:] in [\"pst\",\"tpl\",\"ins\",\".py\"]]"
   ]
  },
  {
   "cell_type": "markdown",
   "id": "1af5bc9a",
   "metadata": {},
   "source": [
    "Everything we need to run PEST(++) is now in `t_d`.   Let's checkout `temp.pst`: "
   ]
  },
  {
   "cell_type": "code",
   "execution_count": null,
   "id": "5ad62a5b",
   "metadata": {},
   "outputs": [],
   "source": [
    "\n",
    "pf.pst.npar,pf.pst.nobs"
   ]
  },
  {
   "cell_type": "markdown",
   "id": "755d2c37",
   "metadata": {},
   "source": [
    "We just built a very-high dimensional PEST interface - snap!\n",
    "\n",
    "Now, lets generate a prior parameter ensemble:"
   ]
  },
  {
   "cell_type": "code",
   "execution_count": null,
   "id": "c132ed70",
   "metadata": {},
   "outputs": [],
   "source": [
    "pe = pf.draw(num_reals=100,use_specsim=True)\n",
    "pe.enforce()\n",
    "pe.to_binary(os.path.join(t_d,\"prior.jcb\"))\n",
    "pf.pst.pestpp_options[\"ies_parameter_ensemble\"] = \"prior.jcb\"\n",
    "pf.pst.write(os.path.join(t_d,\"sgn.pst\"),version=2)"
   ]
  },
  {
   "cell_type": "markdown",
   "id": "315a594e",
   "metadata": {},
   "source": [
    "Boom!  We now have a geostatistically correlated prior parameter ensemble."
   ]
  },
  {
   "cell_type": "markdown",
   "id": "bf64c4c6",
   "metadata": {},
   "source": [
    "We can use all the standard `pandas` action the `ParameterEnsemble` instance:"
   ]
  },
  {
   "cell_type": "code",
   "execution_count": null,
   "id": "17112319",
   "metadata": {},
   "outputs": [],
   "source": [
    "ax = pe.iloc[:,0].hist()\n",
    "_ = ax.set_title(pe.columns[0])"
   ]
  },
  {
   "cell_type": "markdown",
   "id": "0cc6ba4b",
   "metadata": {},
   "source": [
    "In the next notebook, we will make some test runs of `pestpp-ies` and also explore the multiplier parameter process a little bit more..."
   ]
  },
  {
   "cell_type": "code",
   "execution_count": null,
   "id": "e709f8db",
   "metadata": {},
   "outputs": [],
   "source": []
  }
 ],
 "metadata": {
  "kernelspec": {
   "display_name": "Python 3 (ipykernel)",
   "language": "python",
   "name": "python3"
  },
  "language_info": {
   "codemirror_mode": {
    "name": "ipython",
    "version": 3
   },
   "file_extension": ".py",
   "mimetype": "text/x-python",
   "name": "python",
   "nbconvert_exporter": "python",
   "pygments_lexer": "ipython3",
   "version": "3.9.7"
  }
 },
 "nbformat": 4,
 "nbformat_minor": 5
}
