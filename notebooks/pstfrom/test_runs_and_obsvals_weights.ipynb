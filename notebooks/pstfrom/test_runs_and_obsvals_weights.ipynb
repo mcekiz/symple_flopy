{
 "cells": [
  {
   "cell_type": "markdown",
   "id": "69493072",
   "metadata": {},
   "source": [
    "# Making some test runs and setting observation values and weights\n",
    "\n",
    "In the previous notebook, we constructed a (very) high-dimensional PEST(++) around the structured-grid MF6 model.  In this notebook, we will verify that interface by running a few test runs.  Then we will set the actual observation values and associated weights in the control file in preparation for some more advanced analyses. "
   ]
  },
  {
   "cell_type": "code",
   "execution_count": null,
   "id": "7d588e34",
   "metadata": {},
   "outputs": [],
   "source": [
    "import sys\n",
    "import os\n",
    "import shutil\n",
    "import warnings\n",
    "warnings.filterwarnings(\"ignore\")\n",
    "warnings.filterwarnings(\"ignore\", category=DeprecationWarning) \n",
    "sys.path.append('../../dependencies/')\n",
    "import pandas as pd\n",
    "import numpy as np\n",
    "import matplotlib as mpl\n",
    "import matplotlib.pyplot as plt\n",
    "font = {'size'   : 12}\n",
    "mpl.rc('font', **font)\n",
    "import flopy as fp\n",
    "import pyemu\n"
   ]
  },
  {
   "cell_type": "code",
   "execution_count": null,
   "id": "df4cc91c",
   "metadata": {},
   "outputs": [],
   "source": [
    "mname = \"sgn_50\"\n",
    "t_d = os.path.join(\"..\",\"..\",\"models\",\"template\")\n",
    "assert os.path.exists(t_d)"
   ]
  },
  {
   "cell_type": "code",
   "execution_count": null,
   "id": "9db0add5",
   "metadata": {},
   "outputs": [],
   "source": [
    "[f for f in  os.listdir(t_d) if f[-3:] in [\"pst\",\"tpl\",\"ins\"]]"
   ]
  },
  {
   "cell_type": "markdown",
   "id": "e97988d2",
   "metadata": {},
   "source": [
    "Sweet!  we see all of our pest interface files...let's load the control file"
   ]
  },
  {
   "cell_type": "code",
   "execution_count": null,
   "id": "39944b4b",
   "metadata": {},
   "outputs": [],
   "source": [
    "pst = pyemu.Pst(os.path.join(t_d,\"sgn.pst\"))"
   ]
  },
  {
   "cell_type": "markdown",
   "id": "be8b1791",
   "metadata": {},
   "source": [
    "Kewl - now lets test a single run of the process, just to make sure everything is working as expected..."
   ]
  },
  {
   "cell_type": "code",
   "execution_count": null,
   "id": "a2878aca",
   "metadata": {},
   "outputs": [],
   "source": [
    "pst.control_data.noptmax = 0\n",
    "pst.observation_data.loc[:,\"weight\"] = 1.0\n",
    "pst.write(os.path.join(t_d,\"sgn.pst\"),version=2)"
   ]
  },
  {
   "cell_type": "markdown",
   "id": "a97d3492",
   "metadata": {},
   "source": [
    "We will use a system call utility in pyemu that is operating system agnostic:"
   ]
  },
  {
   "cell_type": "code",
   "execution_count": null,
   "id": "c315d356",
   "metadata": {},
   "outputs": [],
   "source": [
    "pyemu.os_utils.run(\"pestpp-ies sgn.pst\",cwd=t_d)"
   ]
  },
  {
   "cell_type": "code",
   "execution_count": null,
   "id": "5236e2bb",
   "metadata": {},
   "outputs": [],
   "source": [
    "pst = pyemu.Pst(os.path.join(t_d,\"sgn.pst\"))\n",
    "pst.phi"
   ]
  },
  {
   "cell_type": "markdown",
   "id": "50d46266",
   "metadata": {},
   "source": [
    "Nice! Since we have not adjusted the observation data or parameters, and the observation values in the control file are just the values in the existing output files, we expect the objective function value to be at or very near 0.0. Let's run the mean parameter values in the prior parameter ensemble - this is done with `noptmax=-2`"
   ]
  },
  {
   "cell_type": "code",
   "execution_count": null,
   "id": "20e57534",
   "metadata": {},
   "outputs": [],
   "source": [
    "pst.control_data.noptmax = -2\n",
    "# tell pestpp-ies to use our prior parameter ensemble\n",
    "pst.pestpp_options[\"ies_par_en\"] = \"prior.jcb\"\n",
    "pst.write(os.path.join(t_d,\"sgn.pst\"),version=2)\n",
    "pyemu.os_utils.run(\"pestpp-ies sgn.pst\",cwd=t_d)"
   ]
  },
  {
   "cell_type": "markdown",
   "id": "c4b749c2",
   "metadata": {},
   "source": [
    "Now, lets run a single stochastic parameter realization, just to see how that works..."
   ]
  },
  {
   "cell_type": "code",
   "execution_count": null,
   "id": "605f72f4",
   "metadata": {},
   "outputs": [],
   "source": [
    "pe = pyemu.ParameterEnsemble.from_binary(pst=pst,filename=os.path.join(t_d,\"prior.jcb\"))\n",
    "pst.parameter_data.loc[:,\"parval1\"] = pe.loc[pe.index[0],pst.par_names].values\n",
    "pst.control_data.noptmax = 0\n",
    "pst.write(os.path.join(t_d,\"sgn_test.pst\"),version=2)\n",
    "pyemu.os_utils.run(\"pestpp-ies sgn_test.pst\",cwd=t_d)\n",
    "tpst = pyemu.Pst(os.path.join(t_d,\"sgn_test.pst\"))\n",
    "tpst.phi"
   ]
  },
  {
   "cell_type": "markdown",
   "id": "a4340b66",
   "metadata": {},
   "source": [
    "Ok, now the phi is higher, as expected.  Let's visualize the MF6 HK input array for this realization:"
   ]
  },
  {
   "cell_type": "markdown",
   "id": "4d2d448e",
   "metadata": {},
   "source": [
    "Here we load the dataframe that informs the multiplier parameter process that pyemu uses are runtime:"
   ]
  },
  {
   "cell_type": "code",
   "execution_count": null,
   "id": "0795eb60",
   "metadata": {
    "scrolled": true
   },
   "outputs": [],
   "source": [
    "df = pd.read_csv(os.path.join(t_d,\"mult2model_info.csv\"),index_col=0)\n",
    "df.head()"
   ]
  },
  {
   "cell_type": "markdown",
   "id": "52804955",
   "metadata": {},
   "source": [
    "Let's get all parameterization files related to HK in model layer 1:"
   ]
  },
  {
   "cell_type": "code",
   "execution_count": null,
   "id": "7dd85c1c",
   "metadata": {},
   "outputs": [],
   "source": [
    "lay1_hk = df.loc[df.model_file==mname+\".npf_k_layer1.txt\",:]\n",
    "lay1_hk"
   ]
  },
  {
   "cell_type": "markdown",
   "id": "63f2faef",
   "metadata": {},
   "source": [
    "Now load the original (e.g. existing) model layer 1 HK and the resulting model layer 1 HK array that MF6 will see (after all the multiplier arrays have been applied)"
   ]
  },
  {
   "cell_type": "code",
   "execution_count": null,
   "id": "7ef70a27",
   "metadata": {},
   "outputs": [],
   "source": [
    "org_arr = np.loadtxt(os.path.join(t_d,lay1_hk.org_file.iloc[0]))\n",
    "final_arr = np.loadtxt(os.path.join(t_d,lay1_hk.model_file.iloc[0]))"
   ]
  },
  {
   "cell_type": "code",
   "execution_count": null,
   "id": "b6637d07",
   "metadata": {},
   "outputs": [],
   "source": [
    "fig,axes = plt.subplots(1,lay1_hk.shape[0]+2,figsize=(8*lay1_hk.shape[0]+2,8))\n",
    "axes[0].imshow(org_arr,vmin=final_arr.min(),vmax=final_arr.max())\n",
    "axes[0].set_title(\"original HK array\")\n",
    "axes[-1].imshow(final_arr,vmin=final_arr.min(),vmax=final_arr.max())\n",
    "axes[-1].set_title(\"final HK array for MF6\")\n",
    "for i,mlt_file in enumerate(lay1_hk.mlt_file.values):\n",
    "    arr = np.loadtxt(os.path.join(t_d,mlt_file))\n",
    "    axes[i+1].imshow(arr)\n",
    "    axes[i+1].set_title(mlt_file.split(\".\")[0].split(\"_\")[-1])"
   ]
  },
  {
   "cell_type": "markdown",
   "id": "1095e02d",
   "metadata": {},
   "source": [
    "From left to right, we can visualize the multiplier parameter process that we are using."
   ]
  },
  {
   "cell_type": "markdown",
   "id": "35573074",
   "metadata": {},
   "source": [
    "# Setting observation values and weights\n",
    "\n",
    "This is always painful!.  So we are gonna load up the control file and the hob file we found floating around.  Then we are gonna assign the `obsval` quantities to the observations in the control file that correspond to the hob observed quantities.  "
   ]
  },
  {
   "cell_type": "code",
   "execution_count": null,
   "id": "80de43b1",
   "metadata": {},
   "outputs": [],
   "source": [
    "hob = pd.read_csv(\"gv39.hob\",delim_whitespace=True,skiprows=4,header=None,names=[\"site\",\"l\",\"r\",\"c\",\"obsval\"],usecols=[0,1,2,3,8])\n",
    "hob.site = hob.site.str.lower()\n",
    "hob.index = hob.site\n",
    "obs = pst.observation_data\n",
    "obs.loc[:,\"weight\"] = 0.0\n",
    "hobs = obs.loc[obs.obsnme.str.contains(\"head\"),:]\n",
    "hobs.loc[:,\"time\"] = hobs.time.astype(float)\n",
    "# adding the \"_time\" suffix causes us to only use layer 1 obs...\n",
    "for site,obsval in zip(hob.site,hob.obsval):\n",
    "    print(site)\n",
    "    hobs_site = hobs.loc[hobs.obsnme.str.contains(site)]\n",
    "    #assert hobs_site.shape[0] > 0,site\n",
    "    if hobs_site.shape[0] == 0:\n",
    "        print(\"missing\",site)\n",
    "        continue\n",
    "    hobs_site.sort_values(by=\"time\",inplace=True)\n",
    "    obs.loc[hobs_site.obsnme.iloc[-1],\"obsval\"] = obsval\n",
    "    obs.loc[hobs_site.obsnme.iloc[-1],\"weight\"] = 3.0\n",
    "    obs.loc[hobs_site.obsnme.iloc[-1],\"obgnme\"] += \"_measured\"    \n",
    "    \n",
    "    \n",
    "    \n",
    "# hob.loc[:,\"obsnme\"] = hob.apply(lambda x: [o for o in obs.obsnme if x.site+\"_time\" in o],axis=1)\n",
    "# hob.obsnme.apply(lambda x: x.sort())\n",
    "# print(hob.obsnme.values)\n",
    "# print(hob.loc[hob.obsnme.apply(lambda x: len(x) > 4),\"obsnme\"].values)\n",
    "# hob.loc[:,\"obsnme\"] = hob.obsnme.apply(lambda x: x[0] if len(x)==1 else np.NaN)\n",
    "# hob.dropna(inplace=True)\n",
    "# assert hob.shape[0] > 0\n",
    "# hob.index = hob.obsnme\n",
    "# obs.loc[hob.obsnme,\"obsval\"] = hob.obsval\n",
    "# obs.loc[hob.obsnme,\"weight\"] = 3.0\n",
    "assert len(pst.nnz_obs_names) > 0\n",
    "pst.nnz_obs_names"
   ]
  },
  {
   "cell_type": "markdown",
   "id": "b5834157",
   "metadata": {},
   "source": [
    "Let's also set the obsvals for the concentration obs"
   ]
  },
  {
   "cell_type": "code",
   "execution_count": null,
   "id": "ccf6ff7f",
   "metadata": {},
   "outputs": [],
   "source": [
    "cob = pd.read_csv(\"pce_obsval.csv\")\n",
    "cob.loc[:,\"site\"] = cob.site.str.replace(\"_\",\"\")"
   ]
  },
  {
   "cell_type": "code",
   "execution_count": null,
   "id": "da01316f",
   "metadata": {},
   "outputs": [],
   "source": [
    "cob = cob.loc[cob.pce > 0,:]\n",
    "cob"
   ]
  },
  {
   "cell_type": "code",
   "execution_count": null,
   "id": "13cd5f06",
   "metadata": {},
   "outputs": [],
   "source": [
    "cobs = obs.loc[obs.obgnme.str.contains(\"conc\"),:]\n",
    "cobs.loc[:,\"time\"] = cobs.time.astype(float)\n",
    "for site,obsval in zip(cob.site,cob.pce):\n",
    "    cobs_site = cobs.loc[cobs.usecol==site,:]\n",
    "    assert cobs_site.shape[0] > 0,site\n",
    "    cobs_site.sort_values(by=\"time\",inplace=True)\n",
    "    #print(cobs_site)\n",
    "    #break\n",
    "    obs.loc[cobs_site.obsnme.iloc[-1],\"obsval\"] = obsval\n",
    "    obs.loc[cobs_site.obsnme.iloc[-1],\"weight\"] = 1.0\n",
    "    obs.loc[cobs_site.obsnme.iloc[-1],\"obgnme\"] += \"_measured\""
   ]
  },
  {
   "cell_type": "markdown",
   "id": "b6a6acb5",
   "metadata": {},
   "source": [
    "OK! now we can save this control file and have some fun!"
   ]
  },
  {
   "cell_type": "code",
   "execution_count": null,
   "id": "6c6299cb",
   "metadata": {},
   "outputs": [],
   "source": [
    "pst.control_data.noptmax = -1\n",
    "pst.write(os.path.join(t_d,\"sgn.pst\"),version=2)"
   ]
  },
  {
   "cell_type": "code",
   "execution_count": null,
   "id": "b5f5308e",
   "metadata": {},
   "outputs": [],
   "source": []
  }
 ],
 "metadata": {
  "kernelspec": {
   "display_name": "Python 3 (ipykernel)",
   "language": "python",
   "name": "python3"
  },
  "language_info": {
   "codemirror_mode": {
    "name": "ipython",
    "version": 3
   },
   "file_extension": ".py",
   "mimetype": "text/x-python",
   "name": "python",
   "nbconvert_exporter": "python",
   "pygments_lexer": "ipython3",
   "version": "3.8.5"
  }
 },
 "nbformat": 4,
 "nbformat_minor": 5
}
