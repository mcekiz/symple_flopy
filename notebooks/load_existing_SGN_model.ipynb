{
 "metadata": {
  "language_info": {
   "codemirror_mode": {
    "name": "ipython",
    "version": 3
   },
   "file_extension": ".py",
   "mimetype": "text/x-python",
   "name": "python",
   "nbconvert_exporter": "python",
   "pygments_lexer": "ipython3",
   "version": "3.7.9"
  },
  "orig_nbformat": 2,
  "kernelspec": {
   "name": "python379jvsc74a57bd0b3ba2566441a7c06988d0923437866b63cedc61552a5af99d1f4fb67d367b25f",
   "display_name": "Python 3.7.9 64-bit ('base': conda)"
  }
 },
 "nbformat": 4,
 "nbformat_minor": 2,
 "cells": [
  {
   "cell_type": "code",
   "execution_count": 5,
   "metadata": {},
   "outputs": [],
   "source": [
    "import os\n",
    "import flopy\n",
    "import pandas as pd \n",
    "import numpy as np\n",
    "import matplotlib.pyplot as plt\n",
    "import shutil"
   ]
  },
  {
   "cell_type": "code",
   "execution_count": 6,
   "metadata": {},
   "outputs": [
    {
     "output_type": "execute_result",
     "data": {
      "text/plain": [
       "'.\\\\sgn_model'"
      ]
     },
     "metadata": {},
     "execution_count": 6
    }
   ],
   "source": [
    "# the location og the original model folder\n",
    "org_workspace = os.path.join('..','data','SGN_model_GWvistas')\n",
    "\n",
    "# make a copy of orignal model files so as to not mess things up\n",
    "workspace = os.path.join('.','sgn_model')\n",
    "\n",
    "if os.path.exists(workspace):\n",
    "    shutil.rmtree(workspace)\n",
    "shutil.copytree(org_workspace, workspace)"
   ]
  },
  {
   "cell_type": "code",
   "execution_count": 7,
   "metadata": {},
   "outputs": [
    {
     "output_type": "stream",
     "name": "stdout",
     "text": [
      "loading simulation...\n",
      "  loading simulation name file...\n",
      "  loading tdis package...\n",
      "  loading model gwf6...\n",
      "    loading package disu...\n",
      "    loading package ic...\n",
      "WARNING: Block \"options\" is not a valid block name for file type ic.\n",
      "    loading package oc...\n",
      "    loading package npf...\n",
      "    loading package riv...\n",
      "    loading package ghb...\n",
      "    loading package wel...\n",
      "    loading package rch...\n",
      "  loading ims package mf6model...\n",
      "odict_keys(['mf6model'])\n"
     ]
    }
   ],
   "source": [
    "# get the spatial refernce from the model\n",
    "sim = flopy.mf6.MFSimulation.load(sim_ws=workspace, verbosity_level=1)\n",
    "\n",
    "print(sim.model_names)"
   ]
  },
  {
   "cell_type": "code",
   "execution_count": 8,
   "metadata": {},
   "outputs": [],
   "source": [
    "m = sim.get_model(\"mf6model\")"
   ]
  },
  {
   "cell_type": "code",
   "execution_count": null,
   "metadata": {},
   "outputs": [],
   "source": [
    "#m.dis.plot()"
   ]
  },
  {
   "cell_type": "code",
   "execution_count": null,
   "metadata": {},
   "outputs": [],
   "source": [
    "#m.npf.plot()"
   ]
  },
  {
   "cell_type": "code",
   "execution_count": 9,
   "metadata": {},
   "outputs": [
    {
     "output_type": "stream",
     "name": "stdout",
     "text": [
      "writing simulation...\n",
      "  writing simulation name file...\n",
      "  writing simulation tdis package...\n",
      "  writing ims package mf6model...\n",
      "  writing model mf6model...\n",
      "    writing model name file...\n",
      "    writing package disu...\n",
      "    writing package ic...\n",
      "    writing package oc...\n",
      "    writing package npf...\n",
      "    writing package riv-1...\n",
      "    writing package ghb-1...\n",
      "    writing package wel-1...\n",
      "    writing package rch-1...\n"
     ]
    }
   ],
   "source": [
    "sim.write_simulation()"
   ]
  },
  {
   "cell_type": "code",
   "execution_count": null,
   "metadata": {},
   "outputs": [],
   "source": [
    "sim.run_simulation()"
   ]
  },
  {
   "cell_type": "code",
   "execution_count": null,
   "metadata": {},
   "outputs": [],
   "source": [
    "sim.name"
   ]
  },
  {
   "cell_type": "code",
   "execution_count": null,
   "metadata": {},
   "outputs": [],
   "source": [
    "hdsobj = flopy.utils.HeadFile(os.path.join(workspace,\"SGN.hds\"),model=m)\n",
    "kstpkper = hdsobj.get_kstpkper()\n",
    "hds = hdsobj.get_data(kstpkper=kstpkper[0], mflay=0)\n",
    "hds.shape"
   ]
  },
  {
   "cell_type": "code",
   "execution_count": null,
   "metadata": {},
   "outputs": [],
   "source": [
    "hdsobj.plot(contour=False, grid=False, colorbar=True, figsize=(3,3));"
   ]
  }
 ]
}