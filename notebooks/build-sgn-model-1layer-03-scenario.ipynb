{
 "cells": [
  {
   "cell_type": "code",
   "execution_count": null,
   "metadata": {},
   "outputs": [],
   "source": [
    "import os\n",
    "import shutil\n",
    "import flopy\n",
    "# import specific FloPy modules\n",
    "from flopy.utils.gridgen import Gridgen \n",
    "from flopy.utils.gridintersect import GridIntersect\n",
    "\n",
    "import pandas as pd \n",
    "import numpy as np\n",
    "import matplotlib.pyplot as plt\n",
    "\n",
    "# for working with shapefiles\n",
    "import shapefile as sf\n",
    "from shapely.geometry import Polygon, LineString, MultiLineString, Point\n",
    "\n",
    "print(f'Flopy version:{flopy.__version__}')"
   ]
  },
  {
   "cell_type": "code",
   "execution_count": null,
   "metadata": {},
   "outputs": [],
   "source": [
    "# define the location of the model working directory; this is where all the MF6 files will be written\n",
    "# the folder path is relative to the location in which python is running. In our case, relative to the location of the jupyter notebok file.\n",
    "\n",
    "# set the path to the history model\n",
    "hist_workspace = os.path.join('..','models','sgn_model_1layer_transport')\n",
    "\n",
    "# set the new workspace\n",
    "workspace = os.path.join('..','models','sgn_model_1layer_scenario')\n",
    "\n",
    "# make sure that the folder exists. If it doesn't, create it.\n",
    "# copy the hisotry model to the new folder\n",
    "if os.path.exists(workspace):\n",
    "    shutil.rmtree(workspace)\n",
    "shutil.copytree(hist_workspace, workspace)    \n",
    "    \n",
    "# the relative pathto the input file folder\n",
    "datadir = os.path.join('..','data','sgn')\n",
    "\n",
    "# the relative path to the executables folder\n",
    "bindir = os.path.join('..','bin')"
   ]
  },
  {
   "cell_type": "code",
   "execution_count": null,
   "metadata": {},
   "outputs": [],
   "source": [
    "# load the model\n",
    "sim = flopy.mf6.MFSimulation.load(sim_ws=workspace, verbosity_level=1)\n",
    "\n",
    "print(sim.model_names)"
   ]
  },
  {
   "cell_type": "code",
   "execution_count": null,
   "metadata": {},
   "outputs": [],
   "source": [
    "gwf = sim.get_model(\"sgn\")"
   ]
  },
  {
   "cell_type": "code",
   "execution_count": null,
   "metadata": {},
   "outputs": [],
   "source": [
    "# GridIntersect works by first calling an intersect object on the model grid:\n",
    "ix = GridIntersect(gwf.modelgrid)"
   ]
  },
  {
   "cell_type": "code",
   "execution_count": null,
   "metadata": {},
   "outputs": [],
   "source": [
    "# hydraulic barrier data\n",
    "barrier_xy = Point(1519614., 5031870.)\n",
    "print(barrier_xy)\n",
    "\n",
    "inj_rate = 30/1000 #30 l/s to m3/s"
   ]
  },
  {
   "cell_type": "code",
   "execution_count": null,
   "metadata": {},
   "outputs": [],
   "source": [
    "# ineresect all model cells\n",
    "barrier_cell = ix.intersect(barrier_xy).cellids"
   ]
  },
  {
   "cell_type": "code",
   "execution_count": null,
   "metadata": {},
   "outputs": [],
   "source": [
    "gwf.wel.stress_period_data"
   ]
  },
  {
   "cell_type": "code",
   "execution_count": null,
   "metadata": {},
   "outputs": [],
   "source": [
    "# append the barrier wells to the wel package SPD\n",
    "for i in barrier_cell:\n",
    "    gwf.wel.stress_period_data.append_data([((0, i), inj_rate, 'hydraulic_barrier')])"
   ]
  },
  {
   "cell_type": "code",
   "execution_count": null,
   "metadata": {},
   "outputs": [],
   "source": [
    "# check if that worked; see the end of the array\n",
    "gwf.wel.stress_period_data"
   ]
  },
  {
   "cell_type": "code",
   "execution_count": null,
   "metadata": {},
   "outputs": [],
   "source": [
    "sim.write_simulation()"
   ]
  },
  {
   "cell_type": "code",
   "execution_count": null,
   "metadata": {},
   "outputs": [],
   "source": [
    "sim.run_simulation()"
   ]
  },
  {
   "cell_type": "code",
   "execution_count": null,
   "metadata": {},
   "outputs": [],
   "source": [
    "fname = os.path.join(workspace, gwf.name + '.hds')\n",
    "hdobj = flopy.utils.HeadFile(fname, model=gwf)\n",
    "head = hdobj.get_alldata()\n",
    "\n",
    "hmin = head.min()\n",
    "hmax = head.max()\n",
    "\n",
    "print(f'Max head in model run: {hmax}')\n",
    "print(f'Min head in model run: {hmin}')\n",
    "\n",
    "head.shape"
   ]
  },
  {
   "cell_type": "code",
   "execution_count": null,
   "metadata": {},
   "outputs": [],
   "source": [
    "# get the times at which values are recorede in the heads file\n",
    "hdtimes = hdobj.get_times()\n",
    "# generic plot of head data\n",
    "hdobj.plot(mflay=0, totim=hdtimes[0] ,colorbar=True, contour=True, clabel=True)"
   ]
  },
  {
   "cell_type": "code",
   "execution_count": null,
   "metadata": {},
   "outputs": [],
   "source": [
    "# Visualy compare effect of inkection well\n",
    "\n",
    "#read the .hds file form the hisotry model\n",
    "fname2 = os.path.join(hist_workspace, gwf.name + '.hds')\n",
    "hist_hdobj = flopy.utils.HeadFile(fname2, model=gwf)\n",
    "hist_hdobj.plot(mflay=0, totim=hdtimes[0] ,colorbar=True, contour=True, clabel=True)"
   ]
  },
  {
   "cell_type": "code",
   "execution_count": null,
   "metadata": {},
   "outputs": [],
   "source": [
    "hdobj.get_kstpkper()"
   ]
  },
  {
   "cell_type": "code",
   "execution_count": null,
   "metadata": {},
   "outputs": [],
   "source": [
    "# read the grd file\n",
    "fname = os.path.join(workspace, f'{gwf.name}.disv.grb')\n",
    "grd = flopy.utils.MfGrdFile(fname, verbose=False)\n",
    "iverts, verts = grd.get_verts()\n",
    "vertc = grd.get_centroids()\n",
    "mg = grd.get_modelgrid()\n",
    "\n",
    "deltah = hdobj.get_data(mflay=0, kstpkper=(3,0)) - hist_hdobj.get_data(mflay=0,  kstpkper=(3,0))"
   ]
  },
  {
   "cell_type": "code",
   "execution_count": null,
   "metadata": {},
   "outputs": [],
   "source": [
    "fig = plt.figure(figsize=(5, 5), tight_layout=True)\n",
    "ax = fig.add_subplot(111, aspect='equal')\n",
    "\n",
    "ext_offset = 500\n",
    "extent=(1519614-ext_offset, 1519614+ext_offset,\n",
    "        5031870-ext_offset, 5031870+ext_offset)\n",
    "\n",
    "mm = flopy.plot.PlotMapView(model=gwf, ax=ax, layer=0, extent=extent) \n",
    "\n",
    "# plot the model grid + fill contours\n",
    "dh = mm.plot_array(edgecolor='grey', a=deltah[0], cmap='Blues', alpha=1, linewidth=0.1)\n",
    "cb = plt.colorbar(dh, shrink=0.5, pad=0.01)\n",
    "\n",
    "# plot the site shp\n",
    "flopy.plot.plot_shapefile(sf.Reader(os.path.join(datadir, 'shp','Site_area.shp')), linewidth=2, facecolor='grey', edgecolor='w', alpha=0.3);"
   ]
  },
  {
   "cell_type": "code",
   "execution_count": null,
   "metadata": {},
   "outputs": [],
   "source": [
    " #Get the MF6 concentration output\n",
    "fname_mf6 = os.path.join(workspace, list(sim.model_names)[1] + \".ucn\")\n",
    "ucnobj_mf6 = flopy.utils.HeadFile(fname_mf6, precision=\"double\", text=\"CONCENTRATION\")\n",
    "\n",
    "# pre-hydraulic barrier simulation\n",
    "fname_mf6 = os.path.join(hist_workspace, list(sim.model_names)[1] + \".ucn\")\n",
    "hist_ucnobj_mf6 = flopy.utils.HeadFile(fname_mf6, precision=\"double\", text=\"CONCENTRATION\")\n",
    "\n",
    "# difference between them\n",
    "deltac = ucnobj_mf6.get_data(mflay=0, kstpkper=(3,0)) - hist_ucnobj_mf6.get_data(mflay=0,  kstpkper=(3,0))"
   ]
  },
  {
   "cell_type": "code",
   "execution_count": null,
   "metadata": {},
   "outputs": [],
   "source": [
    "# differnec ein concentration\n",
    "\n",
    "fig = plt.figure(figsize=(5, 5), tight_layout=True)\n",
    "ax = fig.add_subplot(111, aspect='equal')\n",
    "\n",
    "extent=(1519100, 1520300, #xmin, xmax\n",
    "        5031600, 5032600) #ymin, ymax\n",
    "\n",
    "mm = flopy.plot.PlotMapView(model=gwf, ax=ax, layer=0, extent=extent) \n",
    "\n",
    "# plot the differnec ein concnetration induced by the hydraulic barrier\n",
    "a = deltac[0].copy()\n",
    "a[(a<0.01) & (a>-0.01)] = np.nan\n",
    "\n",
    "dc = mm.plot_array(edgecolor='grey', a=a, cmap='RdYlBu_r', alpha=1, linewidth=0.1)\n",
    "cb = plt.colorbar(dc, shrink=0.5, pad=0.01)\n",
    "\n",
    "# plot the site shp\n",
    "flopy.plot.plot_shapefile(sf.Reader(os.path.join(datadir, 'shp','Site_area.shp')), linewidth=2, facecolor='grey', edgecolor='w', alpha=0.3);\n",
    "\n",
    "# plot the well cells\n",
    "wells = mm.plot_bc(\"WEL\")"
   ]
  },
  {
   "cell_type": "code",
   "execution_count": null,
   "metadata": {},
   "outputs": [],
   "source": []
  }
 ],
 "metadata": {
  "interpreter": {
   "hash": "b3ba2566441a7c06988d0923437866b63cedc61552a5af99d1f4fb67d367b25f"
  },
  "kernelspec": {
   "name": "python3",
   "display_name": "Python 3.7.9 64-bit ('base': conda)"
  },
  "language_info": {
   "codemirror_mode": {
    "name": "ipython",
    "version": 3
   },
   "file_extension": ".py",
   "mimetype": "text/x-python",
   "name": "python",
   "nbconvert_exporter": "python",
   "pygments_lexer": "ipython3",
   "version": "3.7.9"
  }
 },
 "nbformat": 4,
 "nbformat_minor": 2
}